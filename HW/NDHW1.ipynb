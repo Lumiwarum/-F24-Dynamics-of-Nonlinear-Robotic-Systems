{
  "nbformat": 4,
  "nbformat_minor": 0,
  "metadata": {
    "colab": {
      "provenance": []
    },
    "kernelspec": {
      "name": "python3",
      "display_name": "Python 3"
    },
    "language_info": {
      "name": "python"
    }
  },
  "cells": [
    {
      "cell_type": "markdown",
      "source": [],
      "metadata": {
        "id": "Uib6YGklK12i"
      }
    },
    {
      "cell_type": "code",
      "source": [
        "import numpy as np"
      ],
      "metadata": {
        "id": "bhDqxFIVL7jF"
      },
      "execution_count": 4,
      "outputs": []
    },
    {
      "cell_type": "code",
      "execution_count": 1,
      "metadata": {
        "id": "x9wIcTwgKn3U"
      },
      "outputs": [],
      "source": [
        "def Rx(q):\n",
        "    T = np.array([[1,         0,          0, 0],\n",
        "                  [0, np.cos(q), -np.sin(q), 0],\n",
        "                  [0, np.sin(q),  np.cos(q), 0],\n",
        "                  [0,         0,          0, 1]], dtype=float)\n",
        "    return T\n",
        "\n",
        "\n",
        "def Ry(q):\n",
        "    T = np.array([[ np.cos(q), 0, np.sin(q), 0],\n",
        "                  [         0, 1,         0, 0],\n",
        "                  [-np.sin(q), 0, np.cos(q), 0],\n",
        "                  [         0, 0,         0, 1]], dtype=float)\n",
        "    return T\n",
        "\n",
        "\n",
        "def Rz(q):\n",
        "    T = np.array([[np.cos(q), -np.sin(q), 0, 0],\n",
        "                  [np.sin(q),  np.cos(q), 0, 0],\n",
        "                  [        0,          0, 1, 0],\n",
        "                  [        0,          0, 0, 1]], dtype=float)\n",
        "    return T\n",
        "\n",
        "\n",
        "def Tx(x):\n",
        "    T = np.array([[1, 0, 0, x],\n",
        "                  [0, 1, 0, 0],\n",
        "                  [0, 0, 1, 0],\n",
        "                  [0, 0, 0, 1]], dtype=float)\n",
        "    return T\n",
        "\n",
        "\n",
        "def Ty(y):\n",
        "    T = np.array([[1, 0, 0, 0],\n",
        "                  [0, 1, 0, y],\n",
        "                  [0, 0, 1, 0],\n",
        "                  [0, 0, 0, 1]], dtype=float)\n",
        "    return T\n",
        "\n",
        "\n",
        "def Tz(z):\n",
        "    T = np.array([[1, 0, 0, 0],\n",
        "                  [0, 1, 0, 0],\n",
        "                  [0, 0, 1, z],\n",
        "                  [0, 0, 0, 1]], dtype=float)\n",
        "    return T"
      ]
    },
    {
      "cell_type": "code",
      "source": [
        "def DH(d, theta, a, alpha):\n",
        "    A = Rz(theta) @ Tz(d) @ Tx(a) @ Rx(alpha)\n",
        "    return A"
      ],
      "metadata": {
        "id": "8aZ3cw3BLtvA"
      },
      "execution_count": 5,
      "outputs": []
    },
    {
      "cell_type": "code",
      "source": [
        "# robot parameters, links (m)\n",
        "l1 = 0.346\n",
        "l2 = 0.324\n",
        "l3 = 0.312\n",
        "l4 = 1.075\n",
        "l5 = 0.225\n",
        "l6 = 1.280\n",
        "l7 = 0.215\n",
        "d6 = 0.3\n",
        "q = [0,0,0,0,0,0]"
      ],
      "metadata": {
        "id": "EYP3CkqHT8oW"
      },
      "execution_count": 31,
      "outputs": []
    },
    {
      "cell_type": "code",
      "source": [
        "d_p= np.array([l1, 0, 0, l3, 0, d6])\n",
        "th_p = np.array([np.pi/2, 0, np.pi/2, np.pi/2, 0, 0])\n",
        "a_p = np.array([0, l2, 0, 0, 0, 0])\n",
        "al_p = np.array([np.pi/2, 0, np.pi/2, np.pi/2, np.pi/2, 0])"
      ],
      "metadata": {
        "id": "Hlp67oHcMTvB"
      },
      "execution_count": 27,
      "outputs": []
    },
    {
      "cell_type": "code",
      "source": [
        "def FK(q_cor):\n",
        "    Matrix = np.eye(4)\n",
        "\n",
        "    for i, q in enumerate(q_cor):\n",
        "      Matrix = Matrix @ DH(d_p[i], th_p[i]+q, a_p[i], al_p[i])\n",
        "\n",
        "    return Matrix\n"
      ],
      "metadata": {
        "id": "cK_Q2rPpM60A"
      },
      "execution_count": 55,
      "outputs": []
    },
    {
      "cell_type": "code",
      "source": [
        "def FKold(q):\n",
        "  Matrix = Tz(l1) @ Rz(q[0]) @ Tz(l2) @ Tx(l3) @ Ry(q[1]) @ Tx(l4) @ Ry(q[2]) @ Tz(l5) @ Tx(l6) @ Ry(q[3]) @ Rz(q[4]) @ Ry(q[5])\n",
        "\n",
        "  return Matrix"
      ],
      "metadata": {
        "id": "PSBqTNf6gGXA"
      },
      "execution_count": 9,
      "outputs": []
    },
    {
      "cell_type": "code",
      "source": [
        "def FK3(q):\n",
        "  Matrix =  Rz(q[0]) @ Tz(l1) @ Ry(q[1]) @ Tx(l2) @ Ry(q[2]) @ Tx(l3)\n",
        "\n",
        "  return Matrix"
      ],
      "metadata": {
        "id": "nDJfILXBolll"
      },
      "execution_count": 41,
      "outputs": []
    },
    {
      "cell_type": "code",
      "source": [
        "def get_cosine_law_angle(a, b, c):\n",
        "  # given all sides of a triangle a, b, c\n",
        "  # calculate angle gamma between sides a and b using cosine law\n",
        "  cos_gamma = (a*a + b*b - c*c) / (2*a*b)\n",
        "  sin_gamma = np.sqrt(1 - cos_gamma * cos_gamma)\n",
        "  gamma = np.arctan2(sin_gamma, cos_gamma)\n",
        "\n",
        "  return gamma\n",
        "\n",
        "def first_angles(wrist_center):\n",
        "    x, y, z = wrist_center\n",
        "    theta1 = np.arctan2(y, x)- np.pi/2\n",
        "    r = np.sqrt(x**2+y**2)\n",
        "    h = z - l1\n",
        "    p = np.sqrt(r**2+h**2)\n",
        "    print(z, l1)\n",
        "    alpha = np.arctan2(h, r)\n",
        "    gamma1 = get_cosine_law_angle(l2, p, l3)\n",
        "    print(gamma1, alpha)\n",
        "    theta2 = gamma1 - alpha\n",
        "    gamma2 = get_cosine_law_angle(l2, l3, p)\n",
        "    theta3 = np.pi - gamma2\n",
        "    return theta1, theta2, theta3\n",
        "\n"
      ],
      "metadata": {
        "id": "XlfKVD3pnkGp"
      },
      "execution_count": 47,
      "outputs": []
    },
    {
      "cell_type": "code",
      "source": [
        "q = [0,  np.pi/8, np.pi/6, 0]\n",
        "print(q)\n",
        "first_angles(FK(q)[:3,3])"
      ],
      "metadata": {
        "colab": {
          "base_uri": "https://localhost:8080/"
        },
        "id": "1wOqL8Qzp1ov",
        "outputId": "2a154daf-bf92-4469-cbe3-48a5d5d6961b"
      },
      "execution_count": 59,
      "outputs": [
        {
          "output_type": "stream",
          "name": "stdout",
          "text": [
            "[0, 0.39269908169872414, 0.5235987755982988, 0]\n",
            "0.7175156742571543 0.346\n",
            "0.25674378573161305 0.6494428674303375\n"
          ]
        },
        {
          "output_type": "execute_result",
          "data": {
            "text/plain": [
              "(0.0, -0.3926990816987245, 0.5235987755982987)"
            ]
          },
          "metadata": {},
          "execution_count": 59
        }
      ]
    },
    {
      "cell_type": "code",
      "source": [
        "FK(q)"
      ],
      "metadata": {
        "colab": {
          "base_uri": "https://localhost:8080/"
        },
        "id": "Nf4H5aT_OcCp",
        "outputId": "790f82c9-afe7-4830-e68f-7453ef9ca360"
      },
      "execution_count": 40,
      "outputs": [
        {
          "output_type": "execute_result",
          "data": {
            "text/plain": [
              "array([[-6.12323400e-17,  1.00000000e+00,  1.23259516e-32,\n",
              "         1.98392781e-17],\n",
              "       [-1.00000000e+00, -6.12323400e-17,  1.22464680e-16,\n",
              "         3.24000000e-01],\n",
              "       [ 1.22464680e-16,  0.00000000e+00,  1.00000000e+00,\n",
              "         3.46000000e-01],\n",
              "       [ 0.00000000e+00,  0.00000000e+00,  0.00000000e+00,\n",
              "         1.00000000e+00]])"
            ]
          },
          "metadata": {},
          "execution_count": 40
        }
      ]
    },
    {
      "cell_type": "code",
      "source": [
        "q= [0, np.pi/6, 0]"
      ],
      "metadata": {
        "id": "pGFPorlKuBnX"
      },
      "execution_count": null,
      "outputs": []
    },
    {
      "cell_type": "code",
      "source": [
        "FK3(q)"
      ],
      "metadata": {
        "colab": {
          "base_uri": "https://localhost:8080/"
        },
        "id": "0-2X1QTzp_ze",
        "outputId": "be08cc5b-8100-4704-c653-6561f593f890"
      },
      "execution_count": null,
      "outputs": [
        {
          "output_type": "execute_result",
          "data": {
            "text/plain": [
              "array([[ 0.8660254 ,  0.        ,  0.5       ,  0.55079216],\n",
              "       [ 0.        ,  1.        ,  0.        ,  0.        ],\n",
              "       [-0.5       ,  0.        ,  0.8660254 ,  0.028     ],\n",
              "       [ 0.        ,  0.        ,  0.        ,  1.        ]])"
            ]
          },
          "metadata": {},
          "execution_count": 41
        }
      ]
    },
    {
      "cell_type": "code",
      "source": [
        "FK3(first_angles(FK3(q)[:3,3]))"
      ],
      "metadata": {
        "colab": {
          "base_uri": "https://localhost:8080/"
        },
        "id": "PxGnF9xcrGJg",
        "outputId": "9eb27024-69c5-4b30-8d47-9523211f4f6a"
      },
      "execution_count": null,
      "outputs": [
        {
          "output_type": "execute_result",
          "data": {
            "text/plain": [
              "array([[ 0.86591962, -0.5       ,  0.01353576,  0.47165243],\n",
              "       [ 0.49993892,  0.8660254 ,  0.00781487,  0.27230866],\n",
              "       [-0.01562975,  0.        ,  0.99987785,  0.56661732],\n",
              "       [ 0.        ,  0.        ,  0.        ,  1.        ]])"
            ]
          },
          "metadata": {},
          "execution_count": 21
        }
      ]
    },
    {
      "cell_type": "code",
      "source": [
        "def IK(T):\n",
        "  x, y, z = T[:3,3]\n",
        "  q1 = np.arctan2(y, x)\n",
        "  r = np.sqrt(x**2+y**2)\n",
        "  d = np.sqrt(l5**2+l6**2)\n",
        "  HY = z-l1-l2\n",
        "  KY = r-l3\n",
        "  HM = d+l7\n",
        "  KM = l4\n",
        "  KH = np.sqrt(KY**2+HY**2)\n",
        "  gamma1 = np.arctan2(HY, KY)\n",
        "  gamma2 = np.arccos((KM**2+KH**2-HM**2)/(2*KH*KM))\n",
        "  q2=gamma1-gamma2\n",
        "  gamma3 = np.arccos((KM**2+HM**2-KH**2)/(2*HM*KM))\n",
        "  q3 = np.pi - gamma3\n",
        "  return q1,q2,q3\n",
        "\n",
        "\n",
        "nq = np.array([1,0,0,0,1,1])\n",
        "IK(FK(nq))"
      ],
      "metadata": {
        "colab": {
          "base_uri": "https://localhost:8080/"
        },
        "id": "RbB6uLf-hh7v",
        "outputId": "ebfe08c0-4eb1-486d-8f0a-a8dd5b790a45"
      },
      "execution_count": null,
      "outputs": [
        {
          "output_type": "execute_result",
          "data": {
            "text/plain": [
              "(1.0, -0.4069853701364795, 0.8509240633968238)"
            ]
          },
          "metadata": {},
          "execution_count": 7
        }
      ]
    }
  ]
}