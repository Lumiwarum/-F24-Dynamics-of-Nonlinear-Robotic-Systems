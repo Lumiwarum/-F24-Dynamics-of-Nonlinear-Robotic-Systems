{
  "nbformat": 4,
  "nbformat_minor": 0,
  "metadata": {
    "colab": {
      "provenance": []
    },
    "kernelspec": {
      "name": "python3",
      "display_name": "Python 3"
    },
    "language_info": {
      "name": "python"
    }
  },
  "cells": [
    {
      "cell_type": "markdown",
      "source": [],
      "metadata": {
        "id": "Uib6YGklK12i"
      }
    },
    {
      "cell_type": "code",
      "source": [
        "import numpy as np\n",
        "import sympy as sp\n",
        "from sympy.matrices import Matrix"
      ],
      "metadata": {
        "id": "bhDqxFIVL7jF"
      },
      "execution_count": 7,
      "outputs": []
    },
    {
      "cell_type": "code",
      "source": [
        "import matplotlib.pyplot as plt\n",
        "from mpl_toolkits.mplot3d import Axes3D"
      ],
      "metadata": {
        "id": "JLDeIoH1dQji"
      },
      "execution_count": 8,
      "outputs": []
    },
    {
      "cell_type": "code",
      "execution_count": 9,
      "metadata": {
        "id": "x9wIcTwgKn3U"
      },
      "outputs": [],
      "source": [
        "def Rx(q):\n",
        "    T = np.array([[1,         0,          0, 0],\n",
        "                  [0, np.cos(q), -np.sin(q), 0],\n",
        "                  [0, np.sin(q),  np.cos(q), 0],\n",
        "                  [0,         0,          0, 1]], dtype=float)\n",
        "    return T\n",
        "\n",
        "\n",
        "def Ry(q):\n",
        "    T = np.array([[ np.cos(q), 0, np.sin(q), 0],\n",
        "                  [         0, 1,         0, 0],\n",
        "                  [-np.sin(q), 0, np.cos(q), 0],\n",
        "                  [         0, 0,         0, 1]], dtype=float)\n",
        "    return T\n",
        "\n",
        "\n",
        "def Rz(q):\n",
        "    T = np.array([[np.cos(q), -np.sin(q), 0, 0],\n",
        "                  [np.sin(q),  np.cos(q), 0, 0],\n",
        "                  [        0,          0, 1, 0],\n",
        "                  [        0,          0, 0, 1]], dtype=float)\n",
        "    return T\n",
        "\n",
        "\n",
        "def Tx(x):\n",
        "    T = np.array([[1, 0, 0, x],\n",
        "                  [0, 1, 0, 0],\n",
        "                  [0, 0, 1, 0],\n",
        "                  [0, 0, 0, 1]], dtype=float)\n",
        "    return T\n",
        "\n",
        "\n",
        "def Ty(y):\n",
        "    T = np.array([[1, 0, 0, 0],\n",
        "                  [0, 1, 0, y],\n",
        "                  [0, 0, 1, 0],\n",
        "                  [0, 0, 0, 1]], dtype=float)\n",
        "    return T\n",
        "\n",
        "\n",
        "def Tz(z):\n",
        "    T = np.array([[1, 0, 0, 0],\n",
        "                  [0, 1, 0, 0],\n",
        "                  [0, 0, 1, z],\n",
        "                  [0, 0, 0, 1]], dtype=float)\n",
        "    return T"
      ]
    },
    {
      "cell_type": "code",
      "source": [
        "def DH(d, theta, a, alpha):\n",
        "    A = Rz(theta) @ Tz(d) @ Tx(a) @ Rx(alpha)\n",
        "    return A"
      ],
      "metadata": {
        "id": "8aZ3cw3BLtvA"
      },
      "execution_count": 10,
      "outputs": []
    },
    {
      "cell_type": "code",
      "source": [
        "# robot parameters, links (m)\n",
        "l1 = 0.346\n",
        "l2 = 0.324\n",
        "l3 = 0.312\n",
        "l4 = 1.075\n",
        "l5 = 0.225\n",
        "l6 = 1.280\n",
        "l7 = 0.215\n",
        "d6 = 0.1\n",
        "q = [0,0,0,0,0,0]"
      ],
      "metadata": {
        "id": "EYP3CkqHT8oW"
      },
      "execution_count": 11,
      "outputs": []
    },
    {
      "cell_type": "code",
      "source": [
        "d_p= np.array([l1, 0, 0, l3, 0, d6])\n",
        "th_p = np.array([np.pi/2, 0, np.pi/2, np.pi/2, 0, 0])\n",
        "a_p = np.array([0, l2, 0, 0, 0, 0])\n",
        "al_p = np.array([np.pi/2, 0, np.pi/2, np.pi/2, -np.pi/2, 0])"
      ],
      "metadata": {
        "id": "Hlp67oHcMTvB"
      },
      "execution_count": 12,
      "outputs": []
    },
    {
      "cell_type": "code",
      "source": [
        "def FK(q_cor):\n",
        "    Matrix = np.eye(4)\n",
        "\n",
        "    for i, q in enumerate(q_cor):\n",
        "      Matrix = Matrix @ DH(d_p[i], th_p[i]+q, a_p[i], al_p[i])\n",
        "\n",
        "    return Matrix\n"
      ],
      "metadata": {
        "id": "cK_Q2rPpM60A"
      },
      "execution_count": 13,
      "outputs": []
    },
    {
      "cell_type": "code",
      "source": [
        "def sym_DH(d, theta, a, alpha):\n",
        "  # returns the pose T of one joint frame i with respect to the previous joint frame (i - 1)\n",
        "  # given the parameters:\n",
        "  # theta: theta[i]\n",
        "  # alpha: alpha[i-1]\n",
        "  # a: a[i-1]\n",
        "  # d: d[i]m\n",
        "\n",
        "  r11, r21 = sp.cos(theta), sp.sin(theta)\n",
        "  r32, r33 = sp.sin(alpha), sp.cos(alpha)\n",
        "  r12 = -sp.sin(theta) * sp.cos(alpha)\n",
        "  r22 = sp.cos(theta) * sp.cos(alpha)\n",
        "  r13 = sp.sin(theta) * sp.sin(alpha)\n",
        "  r23 = -sp.cos(theta) * sp.sin(alpha)\n",
        "  x = a * sp.cos(theta)\n",
        "  y = a * sp.sin(theta)\n",
        "\n",
        "  T = Matrix([\n",
        "    [r11, r12, r13, x],\n",
        "    [r21, r22, r23, y],\n",
        "    [0  , r32, r33, d],\n",
        "    [0.0, 0.0, 0.0, 1]\n",
        "  ])\n",
        "\n",
        "  T = sp.simplify(T)\n",
        "\n",
        "  return T"
      ],
      "metadata": {
        "id": "7hRLNnNOandI"
      },
      "execution_count": 14,
      "outputs": []
    },
    {
      "cell_type": "code",
      "source": [
        "thetas = sp.symbols(r'\\theta_4:7')\n",
        "sl3 = sp.Symbol(r\"l_3\")\n",
        "sd6 = sp.Symbol(r\"d_6\")"
      ],
      "metadata": {
        "id": "NpZOUkiKePFK"
      },
      "execution_count": 15,
      "outputs": []
    },
    {
      "cell_type": "code",
      "source": [
        "sR36 = sym_DH(sl3, sp.pi/2+thetas[0],0,sp.pi/2) @ sym_DH(0, thetas[1],0,-sp.pi/2) @ sym_DH(sd6, thetas[2],0,0)\n",
        "sR36"
      ],
      "metadata": {
        "id": "1TLI8L-Uc6si",
        "colab": {
          "base_uri": "https://localhost:8080/",
          "height": 98
        },
        "outputId": "193ab77e-de97-4663-e11f-edb8bf0f5f38"
      },
      "execution_count": 16,
      "outputs": [
        {
          "output_type": "execute_result",
          "data": {
            "text/plain": [
              "Matrix([\n",
              "[-sin(\\theta_4)*cos(\\theta_5)*cos(\\theta_6) - sin(\\theta_6)*cos(\\theta_4),  sin(\\theta_4)*sin(\\theta_6)*cos(\\theta_5) - cos(\\theta_4)*cos(\\theta_6),  sin(\\theta_4)*sin(\\theta_5),  d_6*sin(\\theta_4)*sin(\\theta_5)],\n",
              "[-sin(\\theta_4)*sin(\\theta_6) + cos(\\theta_4)*cos(\\theta_5)*cos(\\theta_6), -sin(\\theta_4)*cos(\\theta_6) - sin(\\theta_6)*cos(\\theta_4)*cos(\\theta_5), -sin(\\theta_5)*cos(\\theta_4), -d_6*sin(\\theta_5)*cos(\\theta_4)],\n",
              "[                                             sin(\\theta_5)*cos(\\theta_6),                                             -sin(\\theta_5)*sin(\\theta_6),                cos(\\theta_5),          d_6*cos(\\theta_5) + l_3],\n",
              "[                                                                       0,                                                                        0,                            0,                                1]])"
            ],
            "text/latex": "$\\displaystyle \\left[\\begin{matrix}- \\sin{\\left(\\theta_{4} \\right)} \\cos{\\left(\\theta_{5} \\right)} \\cos{\\left(\\theta_{6} \\right)} - \\sin{\\left(\\theta_{6} \\right)} \\cos{\\left(\\theta_{4} \\right)} & \\sin{\\left(\\theta_{4} \\right)} \\sin{\\left(\\theta_{6} \\right)} \\cos{\\left(\\theta_{5} \\right)} - \\cos{\\left(\\theta_{4} \\right)} \\cos{\\left(\\theta_{6} \\right)} & \\sin{\\left(\\theta_{4} \\right)} \\sin{\\left(\\theta_{5} \\right)} & d_{6} \\sin{\\left(\\theta_{4} \\right)} \\sin{\\left(\\theta_{5} \\right)}\\\\- \\sin{\\left(\\theta_{4} \\right)} \\sin{\\left(\\theta_{6} \\right)} + \\cos{\\left(\\theta_{4} \\right)} \\cos{\\left(\\theta_{5} \\right)} \\cos{\\left(\\theta_{6} \\right)} & - \\sin{\\left(\\theta_{4} \\right)} \\cos{\\left(\\theta_{6} \\right)} - \\sin{\\left(\\theta_{6} \\right)} \\cos{\\left(\\theta_{4} \\right)} \\cos{\\left(\\theta_{5} \\right)} & - \\sin{\\left(\\theta_{5} \\right)} \\cos{\\left(\\theta_{4} \\right)} & - d_{6} \\sin{\\left(\\theta_{5} \\right)} \\cos{\\left(\\theta_{4} \\right)}\\\\\\sin{\\left(\\theta_{5} \\right)} \\cos{\\left(\\theta_{6} \\right)} & - \\sin{\\left(\\theta_{5} \\right)} \\sin{\\left(\\theta_{6} \\right)} & \\cos{\\left(\\theta_{5} \\right)} & d_{6} \\cos{\\left(\\theta_{5} \\right)} + l_{3}\\\\0 & 0 & 0 & 1\\end{matrix}\\right]$"
          },
          "metadata": {},
          "execution_count": 16
        }
      ]
    },
    {
      "cell_type": "code",
      "source": [
        "def get_cosine_law_angle(a, b, c):\n",
        "  # given all sides of a triangle a, b, c\n",
        "  # calculate angle gamma between sides a and b using cosine law\n",
        "  cos_gamma = (a*a + b*b - c*c) / (2*a*b)\n",
        "  sin_gamma = np.sqrt(1 - cos_gamma * cos_gamma)\n",
        "  gamma = np.arctan2(sin_gamma, cos_gamma)\n",
        "\n",
        "  return gamma\n",
        "\n",
        "def first_angles(wrist_center):\n",
        "    x, y, z = wrist_center\n",
        "    theta1 = np.arctan2(y, x)- np.pi/2\n",
        "    r = np.sqrt(x**2+y**2)\n",
        "    h = z - l1\n",
        "    p = np.sqrt(r**2+h**2)\n",
        "    alpha = np.arctan2(h, r)\n",
        "    gamma1 = get_cosine_law_angle(l2, p, l3)\n",
        "    theta2 = alpha - gamma1\n",
        "    gamma2 = get_cosine_law_angle(l2, l3, p)\n",
        "    theta3 = np.pi - gamma2\n",
        "    return theta1, theta2, theta3\n",
        "\n",
        "\n",
        "def get_wrist_center(trans):\n",
        "    position_end = trans[:3,3] # take the position of the end effector\n",
        "    z_vec = trans[:3,2] # take the z-vecotr of the last 2 frames\n",
        "    wrist_center = position_end - d6 * z_vec\n",
        "    return wrist_center\n",
        "\n",
        "def last_angles(rot):\n",
        "    q4 = np.arctan2((rot[0,2]),-(rot[1,2]))\n",
        "    q5 = np.arccos(rot[2,2])\n",
        "    q6 = np.arctan2(-(rot[2,1]),(rot[2,0]))\n",
        "\n",
        "    return q4, q5, q6\n",
        "\n",
        "def IK(trans):\n",
        "    wrist_center = get_wrist_center(trans)\n",
        "    q1, q2, q3 = first_angles(wrist_center)\n",
        "    q = np.array([q1, q2, q3])\n",
        "    R03 = FK(q)[:3,:3]\n",
        "    R06 = trans[:3,:3]\n",
        "    R36 = R03.T @ R06\n",
        "    q4, q5, q6 = last_angles(R36)\n",
        "    return q1, q2, q3, q4, q5, q6\n",
        "\n"
      ],
      "metadata": {
        "id": "XlfKVD3pnkGp"
      },
      "execution_count": 17,
      "outputs": []
    },
    {
      "cell_type": "code",
      "source": [
        "q = [np.pi/6, np.pi/8, np.pi/3, np.pi/2, np.pi/3, np.pi/6]\n",
        "FK(q[:4])[:3,3] - get_wrist_center(FK(q))"
      ],
      "metadata": {
        "colab": {
          "base_uri": "https://localhost:8080/"
        },
        "id": "JNE_sBv5ZoL6",
        "outputId": "f1048900-9af8-4bf7-e806-58c6093022e4"
      },
      "execution_count": 50,
      "outputs": [
        {
          "output_type": "execute_result",
          "data": {
            "text/plain": [
              "array([0., 0., 0.])"
            ]
          },
          "metadata": {},
          "execution_count": 50
        }
      ]
    },
    {
      "cell_type": "code",
      "source": [
        "q = [np.pi/5,  -np.pi/8, np.pi/6, -np.pi/5, np.pi/3, -np.pi/6]\n",
        "print(q)\n",
        "IK(FK(q))"
      ],
      "metadata": {
        "colab": {
          "base_uri": "https://localhost:8080/"
        },
        "id": "1wOqL8Qzp1ov",
        "outputId": "b894d50e-e59e-4226-94f8-befff63854a7"
      },
      "execution_count": 55,
      "outputs": [
        {
          "output_type": "stream",
          "name": "stdout",
          "text": [
            "[0.6283185307179586, -0.39269908169872414, 0.5235987755982988, -0.6283185307179586, 1.0471975511965976, -0.5235987755982988]\n"
          ]
        },
        {
          "output_type": "execute_result",
          "data": {
            "text/plain": [
              "(0.6283185307179586,\n",
              " -0.3926990816987238,\n",
              " 0.5235987755982987,\n",
              " -0.6283185307179587,\n",
              " 1.047197551196598,\n",
              " -0.5235987755982984)"
            ]
          },
          "metadata": {},
          "execution_count": 55
        }
      ]
    },
    {
      "cell_type": "code",
      "source": [
        "def get_frame(q):\n",
        "    trans = FK(q)\n",
        "    O = trans[:3,3]\n",
        "    vectors = np.hsplit(trans[:3,:3],3)\n",
        "    return (O, vectors)\n",
        "\n",
        "\n",
        "def plot_frame(q):\n",
        "    frames = []\n",
        "    for i in range(1,len(q)):\n",
        "        frames.append(get_frame(q[:i]))\n",
        "    fig = plt.figure()\n",
        "    ax = fig.add_subplot(111, projection='3d')\n",
        "    colours = [\"red\", \"yellow\", \"green\"]\n",
        "    centers = []\n",
        "    for frame in frames:\n",
        "        O = frame[0]\n",
        "        centers.append(O)\n",
        "        vectors = frame[1]\n",
        "        for vector, colour in zip(vectors, colours):\n",
        "            vlength=np.linalg.norm(vector)\n",
        "            ax.quiver(O[0],O[1],O[2],vector[0],vector[1],vector[2],\n",
        "                    pivot='tail',length=vlength/25,arrow_length_ratio=vlength/10, color = colour)\n",
        "    centers = np.concatenate(centers).reshape(-1,3)\n",
        "    x, y, z = centers[:, 0], centers[:, 1], centers[:, 2]\n",
        "    ax.scatter(x,y,z, c='b',s=100)\n",
        "    ax.plot(x,y,z, color='b')\n",
        "    ax.set_xlim([-0.35, 1])\n",
        "    ax.set_ylim([-0.3, 1])\n",
        "    ax.set_zlim([0, 1])\n",
        "    #plt.show()"
      ],
      "metadata": {
        "id": "zw3RsQ5Pcj9N"
      },
      "execution_count": 170,
      "outputs": []
    },
    {
      "cell_type": "code",
      "source": [
        "#plot_frame(FK(np.array([0])))\n",
        "q = [0, 0, 0, 0, 0, 0]\n",
        "#q = [np.pi/6, np.pi/8, np.pi/3, np.pi/2, np.pi/3, np.pi/6]\n",
        "plot_frame(q)"
      ],
      "metadata": {
        "colab": {
          "base_uri": "https://localhost:8080/",
          "height": 418
        },
        "id": "zbCku-n4dzAl",
        "outputId": "259641e4-ef7e-430b-bfe4-09feadfee344"
      },
      "execution_count": 171,
      "outputs": [
        {
          "output_type": "display_data",
          "data": {
            "text/plain": [
              "<Figure size 640x480 with 1 Axes>"
            ],
            "image/png": "[encoded data removed]"
          },
          "metadata": {}
        }
      ]
    }
  ]
}