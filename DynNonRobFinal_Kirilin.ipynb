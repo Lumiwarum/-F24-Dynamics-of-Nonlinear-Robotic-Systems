{
  "nbformat": 4,
  "nbformat_minor": 0,
  "metadata": {
    "colab": {
      "provenance": []
    },
    "kernelspec": {
      "name": "python3",
      "display_name": "Python 3"
    },
    "language_info": {
      "name": "python"
    }
  },
  "cells": [
    {
      "cell_type": "markdown",
      "source": [
        "# Задание 1\n"
      ],
      "metadata": {
        "id": "Fi4cJmB0rAel"
      }
    },
    {
      "cell_type": "code",
      "execution_count": null,
      "metadata": {
        "id": "BfOHQMJFqWE9"
      },
      "outputs": [],
      "source": [
        "import numpy as np\n",
        "import matplotlib.pyplot as plt\n",
        "np.set_printoptions(precision=10, suppress=True)\n",
        "# robot parameters\n",
        "params = {'l1': 0.7,\n",
        "          'l2': 0.5}\n",
        "gen_coords = {'q1': np.pi/8,\n",
        "              'q2': np.pi/7}"
      ]
    },
    {
      "cell_type": "code",
      "source": [
        "def Rx(q):\n",
        "    T = np.array([[1,         0,          0, 0],\n",
        "                  [0, np.cos(q), -np.sin(q), 0],\n",
        "                  [0, np.sin(q),  np.cos(q), 0],\n",
        "                  [0,         0,          0, 1]], dtype=float)\n",
        "    return T\n",
        "\n",
        "\n",
        "def Ry(q):\n",
        "    T = np.array([[ np.cos(q), 0, np.sin(q), 0],\n",
        "                  [         0, 1,         0, 0],\n",
        "                  [-np.sin(q), 0, np.cos(q), 0],\n",
        "                  [         0, 0,         0, 1]], dtype=float)\n",
        "    return T\n",
        "\n",
        "\n",
        "def Rz(q):\n",
        "    T = np.array([[np.cos(q), -np.sin(q), 0, 0],\n",
        "                  [np.sin(q),  np.cos(q), 0, 0],\n",
        "                  [        0,          0, 1, 0],\n",
        "                  [        0,          0, 0, 1]], dtype=float)\n",
        "    return T\n",
        "\n",
        "\n",
        "def Tx(x):\n",
        "    T = np.array([[1, 0, 0, x],\n",
        "                  [0, 1, 0, 0],\n",
        "                  [0, 0, 1, 0],\n",
        "                  [0, 0, 0, 1]], dtype=float)\n",
        "    return T\n",
        "\n",
        "\n",
        "def Ty(y):\n",
        "    T = np.array([[1, 0, 0, 0],\n",
        "                  [0, 1, 0, y],\n",
        "                  [0, 0, 1, 0],\n",
        "                  [0, 0, 0, 1]], dtype=float)\n",
        "    return T\n",
        "\n",
        "\n",
        "def Tz(z):\n",
        "    T = np.array([[1, 0, 0, 0],\n",
        "                  [0, 1, 0, 0],\n",
        "                  [0, 0, 1, z],\n",
        "                  [0, 0, 0, 1]], dtype=float)\n",
        "    return T"
      ],
      "metadata": {
        "id": "_0e0Mw-eqdmF"
      },
      "execution_count": null,
      "outputs": []
    },
    {
      "cell_type": "code",
      "source": [
        "def DH(d, theta, a, alpha):\n",
        "    A = Rz(theta) @ Tz(d) @ Tx(a) @ Rx(alpha)\n",
        "    return A"
      ],
      "metadata": {
        "id": "r6GfMVr3qg4L"
      },
      "execution_count": null,
      "outputs": []
    },
    {
      "cell_type": "code",
      "source": [
        "d_p= np.array([params['l1'], 0])\n",
        "th_p = np.array([np.pi/2, 0])\n",
        "a_p = np.array([0, params['l2']])\n",
        "al_p = np.array([np.pi/2, 0])"
      ],
      "metadata": {
        "id": "v6Jp6yqQqizk"
      },
      "execution_count": null,
      "outputs": []
    },
    {
      "cell_type": "code",
      "source": [
        "def FK(q_cor):\n",
        "    Matrix = np.eye(4)\n",
        "\n",
        "    for i, q in enumerate(q_cor):\n",
        "      Matrix = Matrix @ DH(d_p[i], th_p[i]+q, a_p[i], al_p[i])\n",
        "\n",
        "    return Matrix"
      ],
      "metadata": {
        "id": "9D315hvVqpAr"
      },
      "execution_count": null,
      "outputs": []
    },
    {
      "cell_type": "markdown",
      "source": [
        "## analitical jacobian"
      ],
      "metadata": {
        "id": "9fMA4L7vrTPb"
      }
    },
    {
      "cell_type": "markdown",
      "source": [
        "\n",
        "Поэтому я предлагаю описывать ориентацию робота всего одним углом, который будет расчитываться как сумму углов на всех джоинтах:\n",
        "\n",
        "$$ϕ=q_{1}+q_{2}$$\n",
        "\n",
        "\n",
        "Положение и ориентация рабочего органа (end-effector) зписывается следующим образом:\n",
        "\n",
        "\\begin{equation}\n",
        "l_{hand} = l_2 \\cos(q_2) \\\\\n",
        "z_{hand} = l_2 \\sin(q_2) \\\\\n",
        "x = l_{hand} \\cos(q_1) \\\\\n",
        "y = l_{hand} \\sin(q_1) \\\\\n",
        "z = z_{hand} + l1 \\\\\n",
        "\\varphi = q_1 + q_2\n",
        "\\end{equation}"
      ],
      "metadata": {
        "id": "977Y6GfM_sAw"
      }
    },
    {
      "cell_type": "code",
      "source": [
        "import sympy as sym\n",
        "\n",
        "def j_sym_analytic():\n",
        "  \"\"\"\n",
        "  The function returns the Jacobian (3x3) in symbolic form\n",
        "  \"\"\"\n",
        "  x, y, z = sym.symbols('x, y, z')\n",
        "  phi, q1, q2 = sym.symbols('varphi, q_1, q_2')\n",
        "  l1,l2 = sym.symbols('l_1, l_2')\n",
        "\n",
        "  l_hand = l2*sym.cos(q2)\n",
        "  z_hand = l2*sym.sin(q2)\n",
        "\n",
        "  x = l_hand*sym.cos(q1+np.pi/2)\n",
        "  y = l_hand*sym.sin(q1+np.pi/2)\n",
        "  z = z_hand + l1\n",
        "  phi = q1 + q2\n",
        "\n",
        "  J11 = sym.diff(x, q1)\n",
        "  J12 = sym.diff(x, q2)\n",
        "\n",
        "  J21 = sym.diff(y, q1)\n",
        "  J22 = sym.diff(y, q2)\n",
        "\n",
        "  J31 = sym.diff(z, q1)\n",
        "  J32 = sym.diff(z, q2)\n",
        "\n",
        "  J41 = sym.diff(phi, q1)\n",
        "  J42 = sym.diff(phi, q2)\n",
        "\n",
        "  J = sym.Matrix([[J11,J12], [J21,J22], [J31,J32], [J41,J42]])\n",
        "  return J"
      ],
      "metadata": {
        "id": "mC9vUmEjqrn8"
      },
      "execution_count": null,
      "outputs": []
    },
    {
      "cell_type": "code",
      "source": [
        "J = j_sym_analytic()\n",
        "J"
      ],
      "metadata": {
        "colab": {
          "base_uri": "https://localhost:8080/",
          "height": 98
        },
        "id": "caCaf7nhqtx7",
        "outputId": "5c2b360c-fab5-4c5c-9d9d-e0c04cc5e349"
      },
      "execution_count": null,
      "outputs": [
        {
          "output_type": "execute_result",
          "data": {
            "text/plain": [
              "Matrix([\n",
              "[-l_2*sin(q_1 + 1.5707963267949)*cos(q_2), -l_2*sin(q_2)*cos(q_1 + 1.5707963267949)],\n",
              "[ l_2*cos(q_2)*cos(q_1 + 1.5707963267949), -l_2*sin(q_2)*sin(q_1 + 1.5707963267949)],\n",
              "[                                       0,                             l_2*cos(q_2)],\n",
              "[                                       1,                                        1]])"
            ],
            "text/latex": "$\\displaystyle \\left[\\begin{matrix}- l_{2} \\sin{\\left(q_{1} + 1.5707963267949 \\right)} \\cos{\\left(q_{2} \\right)} & - l_{2} \\sin{\\left(q_{2} \\right)} \\cos{\\left(q_{1} + 1.5707963267949 \\right)}\\\\l_{2} \\cos{\\left(q_{2} \\right)} \\cos{\\left(q_{1} + 1.5707963267949 \\right)} & - l_{2} \\sin{\\left(q_{2} \\right)} \\sin{\\left(q_{1} + 1.5707963267949 \\right)}\\\\0 & l_{2} \\cos{\\left(q_{2} \\right)}\\\\1 & 1\\end{matrix}\\right]$"
          },
          "metadata": {},
          "execution_count": 7
        }
      ]
    },
    {
      "cell_type": "code",
      "source": [
        "from sympy import lambdify\n",
        "q1,q2= sym.symbols('q_1, q_2')\n",
        "l1,l2 = sym.symbols('l_1, l_2')\n",
        "\n",
        "J_num = lambdify([q1, q2, l1, l2],J)\n",
        "\n",
        "J_num(gen_coords['q1'], gen_coords['q2'], params['l1'], params['l2'])"
      ],
      "metadata": {
        "colab": {
          "base_uri": "https://localhost:8080/"
        },
        "id": "lOtIe4Drq8NU",
        "outputId": "40c8b8f2-fcb2-4a66-c5e2-229959bfe1e9"
      },
      "execution_count": null,
      "outputs": [
        {
          "output_type": "execute_result",
          "data": {
            "text/plain": [
              "array([[-0.4161933482,  0.0830200593],\n",
              "       [-0.1723929294, -0.200428153 ],\n",
              "       [ 0.          ,  0.450484434 ],\n",
              "       [ 1.          ,  1.          ]])"
            ]
          },
          "metadata": {},
          "execution_count": 8
        }
      ]
    },
    {
      "cell_type": "markdown",
      "source": [
        "## geometrical jacobian"
      ],
      "metadata": {
        "id": "_llSAYbdrO2i"
      }
    },
    {
      "cell_type": "code",
      "source": [
        "import numpy as np\n",
        "\n",
        "\n",
        "def j_geometric(q_coords):\n",
        "  \"\"\"\n",
        "  The function returns the Jacobian (6x3) calculated geometrically\n",
        "  \"\"\"\n",
        "  pe = FK(q_coords)[:3, 3] # end-effector coordinates\n",
        "\n",
        "  J = np.zeros((6, len(q_coords)))\n",
        "  for i in range(len(q_coords)):\n",
        "    pi = FK(q_coords[:i])[:3, 3]\n",
        "    z = FK(q_coords[:i])[:3, 2]\n",
        "    Jp = np.cross(z, (pe-pi))\n",
        "\n",
        "    J[0:3,i] = Jp\n",
        "    J[3:,i] = z\n",
        "\n",
        "  return J\n",
        "\n",
        "#points = get_points(np.array([0,0,0]))\n",
        "J_gm = j_geometric(np.array([gen_coords['q1'],gen_coords['q2']]))\n",
        "J_gm"
      ],
      "metadata": {
        "colab": {
          "base_uri": "https://localhost:8080/"
        },
        "id": "5gCLnPkgrRv0",
        "outputId": "02d573dd-dc62-4d29-9031-464526adffea"
      },
      "execution_count": null,
      "outputs": [
        {
          "output_type": "execute_result",
          "data": {
            "text/plain": [
              "array([[-0.4161933482,  0.0830200593],\n",
              "       [-0.1723929294, -0.200428153 ],\n",
              "       [ 0.          ,  0.450484434 ],\n",
              "       [ 0.          ,  0.9238795325],\n",
              "       [ 0.          ,  0.3826834324],\n",
              "       [ 1.          ,  0.          ]])"
            ]
          },
          "metadata": {},
          "execution_count": 9
        }
      ]
    },
    {
      "cell_type": "markdown",
      "source": [
        "## Numerical Jacobian"
      ],
      "metadata": {
        "id": "nBkUdS_IreXr"
      }
    },
    {
      "cell_type": "code",
      "source": [
        "def dRz(q):\n",
        "    T = np.array([[-np.sin(q), -np.cos(q), 0, 0],\n",
        "                  [np.cos(q),  -np.sin(q), 0, 0],\n",
        "                  [        0,          0, 0, 0],\n",
        "                  [        0,          0, 0, 0]], dtype=float)\n",
        "    return T\n",
        "\n",
        "def dRx(q):\n",
        "    T = np.array([[0,         0,          0, 0],\n",
        "                  [0, -np.sin(q), -np.cos(q), 0],\n",
        "                  [0, np.cos(q),  -np.sin(q), 0],\n",
        "                  [0,         0,          0, 0]], dtype=float)\n",
        "    return T\n",
        "\n",
        "def dRy(q):\n",
        "    T = np.array([[ -np.sin(q), 0, np.cos(q), 0],\n",
        "                  [         0, 0,         0, 0],\n",
        "                  [-np.cos(q), 0, -np.sin(q), 0],\n",
        "                  [         0, 0,         0, 0]], dtype=float)\n",
        "    return T"
      ],
      "metadata": {
        "id": "VHXvWjkOrgzw"
      },
      "execution_count": null,
      "outputs": []
    },
    {
      "cell_type": "code",
      "source": [
        "def j_numerical_derivatives(general_coordinates, robot_params):\n",
        "  \"\"\"\n",
        "  The function returns the Jacobian (6x6) computed with numverical derivatives\n",
        "  \"\"\"\n",
        "  q1, q2 = general_coordinates['q1'], general_coordinates['q2']\n",
        "  l1, l2 = robot_params['l1'], robot_params['l2']\n",
        "\n",
        "  # forward kinematics\n",
        "  H = Rz(q1) @ Tz(l1) @ Rx(q2) @ Ty(l2)\n",
        "\n",
        "  R = H[:3,:3]\n",
        "  R_inv = R.T\n",
        "\n",
        "  Hee_transposed = np.eye(4)\n",
        "  Hee_transposed[:3,:3] = R_inv\n",
        "\n",
        "  H1 = dRz(q1) @ Tz(l1) @ Rx(q2) @ Ty(l2) @ Hee_transposed\n",
        "  J1 = np.array([H1[0,3],H1[1,3],H1[2,3], H1[2,1], H1[0,2], H1[1,0]]).reshape((6,1))\n",
        "\n",
        "  H2 = Rz(q1) @ Tz(l1) @ dRx(q2) @ Ty(l2) @ Hee_transposed\n",
        "  J2 = np.array([H2[0,3],H2[1,3],H2[2,3], H2[2,1], H2[0,2], H2[1,0]]).reshape((6,1))\n",
        "\n",
        "  J = np.hstack([J1, J2])\n",
        "  return J\n",
        "\n",
        "j_numerical_derivatives(gen_coords, params)\n"
      ],
      "metadata": {
        "colab": {
          "base_uri": "https://localhost:8080/"
        },
        "id": "tIBg-baxrifE",
        "outputId": "15476d96-595f-4e79-a68c-479af0243cbe"
      },
      "execution_count": null,
      "outputs": [
        {
          "output_type": "execute_result",
          "data": {
            "text/plain": [
              "array([[-0.4161933482,  0.0830200593],\n",
              "       [-0.1723929294, -0.200428153 ],\n",
              "       [ 0.          ,  0.450484434 ],\n",
              "       [ 0.          ,  0.9238795325],\n",
              "       [ 0.          ,  0.3826834324],\n",
              "       [ 1.          , -0.          ]])"
            ]
          },
          "metadata": {},
          "execution_count": 11
        }
      ]
    },
    {
      "cell_type": "markdown",
      "source": [
        "# Задание 2\n"
      ],
      "metadata": {
        "id": "5dWIsk-Drzfa"
      }
    },
    {
      "cell_type": "code",
      "source": [
        "def time_params(params, t0 = 0):\n",
        "  q0, qf, dq_max, ddq_max = params\n",
        "  delta_q = qf - q0\n",
        "  if np.sqrt(delta_q * ddq_max) <= dq_max:\n",
        "    t1 = np.sqrt(delta_q / ddq_max)\n",
        "    T = t1\n",
        "    tf = 2*t1\n",
        "    print(f'Triangle profile, minimum time: {tf} seconds.')\n",
        "  else:\n",
        "    t1 = dq_max / ddq_max\n",
        "    T = delta_q / dq_max\n",
        "    tf = t1 + T\n",
        "    print(f'Trapezoidal profile, minimum time: {tf} seconds.')\n",
        "  return t0, t1, T, tf"
      ],
      "metadata": {
        "id": "-zlaF012r1L6"
      },
      "execution_count": null,
      "outputs": []
    },
    {
      "cell_type": "code",
      "source": [
        "from os import times\n",
        "def plan_trajectory(q_params, t_params):\n",
        "  t0, t1, T, tf = t_params\n",
        "  q0, qf, dq_max, ddq_max = q_params\n",
        "  time = np.linspace(t0,tf, int(1E3))\n",
        "  dt = time[1]-time[0]\n",
        "  q = []\n",
        "  v = []\n",
        "  a = []\n",
        "  q_cur, dq_cur, ddq_cur = 0, 0, ddq_max\n",
        "\n",
        "  # get the trajectory\n",
        "  for t in time:\n",
        "    q.append(q_cur)\n",
        "    v.append(dq_cur)\n",
        "    a.append(ddq_cur)\n",
        "    if t < t1:\n",
        "      q_cur += dq_cur *dt + ddq_cur / 2 * dt ** 2\n",
        "      dq_cur += ddq_cur * dt\n",
        "\n",
        "    if (t > t1) and (t < T):\n",
        "      q_cur += dq_cur * dt\n",
        "      dq_cur = dq_max\n",
        "      ddq_cur = 0\n",
        "\n",
        "    if t > T:\n",
        "      q_cur += dq_cur *dt + ddq_cur / 2 * dt ** 2\n",
        "      dq_cur += ddq_cur * dt\n",
        "      ddq_cur = -ddq_max\n",
        "\n",
        "\n",
        "  return time, q, v, a"
      ],
      "metadata": {
        "id": "WZKQ8SgMr33S"
      },
      "execution_count": null,
      "outputs": []
    },
    {
      "cell_type": "code",
      "source": [
        "# initial params [q0, qf, dq_m, ddq_m]\n",
        "j1 = [0., 45., 5., 2.]\n",
        "j2 = [0., 30., 7., 4.]\n",
        "\n",
        "t0 = 0.\n",
        "\n",
        "# calculate trajectory time for each joint\n",
        "j1_t = time_params(j1)\n",
        "j2_t = time_params(j2)\n",
        "\n",
        "# calculate each trajectory\n",
        "T1, q1, v1, a1 = plan_trajectory(j1, j1_t)\n",
        "T2, q2, v2, a2 = plan_trajectory(j2, j2_t)\n",
        "\n",
        "# extract time params for plotting\n",
        "_, t11, T11, tf1 = j1_t\n",
        "_, t12, T12, tf2 = j2_t\n",
        "\n",
        "time_max = np.max([tf1,tf2])\n",
        "\n",
        "plt.figure(figsize=(15,3))\n",
        "plt.subplot(131)\n",
        "plt.plot(T1,q1, linewidth=2, label=\"q1(t)\",color='b')\n",
        "plt.plot(T2,q2, linewidth=2, label=\"q2(t)\", color='r')\n",
        "plt.xlabel('t (s)', fontsize=18)\n",
        "plt.ylabel(r'q(t) (\\degree)', fontsize=18)\n",
        "plt.grid(color='black', linestyle='--', linewidth=1.0, alpha = 0.7)\n",
        "plt.grid(True)\n",
        "plt.xlim([0,time_max])\n",
        "plt.ylim([0,np.max([q1, q2])+10])\n",
        "plt.vlines([t11,T11], 0, max(q1), linestyles='--', linewidth=1, color='b')\n",
        "plt.vlines([t12,T12], 0, max(q2), linestyles='--', linewidth=1, color='r')\n",
        "plt.legend()\n",
        "\n",
        "\n",
        "plt.subplot(132)\n",
        "plt.plot(T1,v1, linewidth=2, label=\"v1(t)\", color='b')\n",
        "plt.plot(T2,v2, linewidth=2, label=\"v2(t)\", color='r')\n",
        "plt.xlabel('t (s)', fontsize=18)\n",
        "plt.ylabel(r'v(t) (\\degree /s)', fontsize=18)\n",
        "plt.grid(color='black', linestyle='--', linewidth=1.0, alpha = 0.7)\n",
        "plt.grid(True)\n",
        "plt.xlim([0,time_max])\n",
        "plt.ylim([0,np.max([v1, v2])+1])\n",
        "plt.hlines(j1[2], 0,tf1, linestyles='--', color='b', label=r\"\")\n",
        "plt.vlines([t11,T11], 0, max(v1), linestyles='--', linewidth=1, color='b')\n",
        "plt.vlines([t12,T12], 0, max(v2), linestyles='--', linewidth=1, color='r')\n",
        "plt.legend()\n",
        "\n",
        "\n",
        "plt.subplot(133)\n",
        "plt.plot(T1,a1, linewidth=3, label=\"a1(t)\", color='b')\n",
        "plt.plot(T2,a2, linewidth=3, label=\"a2(t)\", color='r')\n",
        "plt.xlabel('t (s)', fontsize=18)\n",
        "plt.ylabel(r'a(t) (\\degree /s)', fontsize=18)\n",
        "plt.grid(color='black', linestyle='--', linewidth=1.0, alpha = 0.7)\n",
        "plt.grid(True)\n",
        "plt.xlim([0, time_max])\n",
        "plt.ylim([np.min([a1, a2])-1,np.max([a1, a2])+1])\n",
        "plt.vlines([t11,T11], min(a1)-1, max(a1)+1, linestyles='--', linewidth=1, color='b')\n",
        "plt.vlines([t12,T12], min(a2)-1, max(a2)+1, linestyles='--', linewidth=1, color='r')\n",
        "plt.legend()\n",
        "plt.title(\"До синхронизации\")\n",
        "plt.show()"
      ],
      "metadata": {
        "colab": {
          "base_uri": "https://localhost:8080/",
          "height": 378
        },
        "id": "1xuSd_7sr6wR",
        "outputId": "0e5f2598-a086-44e0-87c3-12823e9ba2ad"
      },
      "execution_count": null,
      "outputs": [
        {
          "output_type": "stream",
          "name": "stdout",
          "text": [
            "Trapezoidal profile, minimum time: 11.5 seconds.\n",
            "Trapezoidal profile, minimum time: 6.035714285714286 seconds.\n"
          ]
        },
        {
          "output_type": "display_data",
          "data": {
            "text/plain": [
              "<Figure size 1500x300 with 3 Axes>"
            ],
            "image/png": "[encoded data removed]"
          },
          "metadata": {}
        }
      ]
    },
    {
      "cell_type": "code",
      "source": [
        "t0, tac, tconst, tdec = j1_t # j1_t had the maximal time\n",
        "t_accel = tac-t0\n",
        "t_vconst = tconst - tac\n",
        "assert(t_accel == tdec- tconst)\n",
        "vq2_max = (j2[1]-j1[0])/(t_vconst + t_accel)\n",
        "aq2_max = vq2_max/ t_accel\n",
        "\n",
        "vq1_max = (j1[1]-j1[0])/(t_vconst + t_accel)\n",
        "aq1_max = vq1_max/ t_accel"
      ],
      "metadata": {
        "id": "C2sWYWcQssGr"
      },
      "execution_count": null,
      "outputs": []
    },
    {
      "cell_type": "code",
      "source": [
        "# initial params [q0, qf, dq_m, ddq_m]\n",
        "j1 = [0.,  45., vq1_max, aq1_max]\n",
        "j2 = [0., 30., vq2_max, aq2_max]\n",
        "\n",
        "t0 = 0.\n",
        "\n",
        "# calculate trajectory time for each joint\n",
        "j1_t = time_params(j1)\n",
        "j2_t = time_params(j2)\n",
        "\n",
        "# calculate each trajectory\n",
        "T1, q1, v1, a1 = plan_trajectory(j1, j1_t)\n",
        "T2, q2, v2, a2 = plan_trajectory(j2, j2_t)\n",
        "\n",
        "# extract time params for plotting\n",
        "_, t11, T11, tf1 = j1_t\n",
        "_, t12, T12, tf2 = j2_t\n",
        "\n",
        "time_max = np.max([tf1,tf2])\n",
        "\n",
        "plt.figure(figsize=(15,3))\n",
        "plt.subplot(131)\n",
        "plt.plot(T1,q1, linewidth=2, label=\"q1(t)\",color='b')\n",
        "plt.plot(T2,q2, linewidth=2, label=\"q2(t)\", color='r')\n",
        "plt.xlabel('t (s)', fontsize=18)\n",
        "plt.ylabel(r'q(t) (\\degree)', fontsize=18)\n",
        "plt.grid(color='black', linestyle='--', linewidth=1.0, alpha = 0.7)\n",
        "plt.grid(True)\n",
        "plt.xlim([0,time_max])\n",
        "plt.ylim([0,np.max([q1, q2])+10])\n",
        "plt.vlines([t11,T11], 0, max(q1), linestyles='--', linewidth=1, color='b')\n",
        "plt.vlines([t12,T12], 0, max(q2), linestyles='--', linewidth=1, color='r')\n",
        "plt.legend()\n",
        "\n",
        "\n",
        "plt.subplot(132)\n",
        "plt.plot(T1,v1, linewidth=2, label=\"v1(t)\", color='b')\n",
        "plt.plot(T2,v2, linewidth=2, label=\"v2(t)\", color='r')\n",
        "plt.xlabel('t (s)', fontsize=18)\n",
        "plt.ylabel(r'v(t) (\\degree /s)', fontsize=18)\n",
        "plt.grid(color='black', linestyle='--', linewidth=1.0, alpha = 0.7)\n",
        "plt.grid(True)\n",
        "plt.xlim([0,time_max])\n",
        "plt.ylim([0,np.max([v1, v2])+1])\n",
        "plt.hlines(j1[2], 0,tf1, linestyles='--', color='b', label=r\"\")\n",
        "plt.vlines([t11,T11], 0, max(v1), linestyles='--', linewidth=1, color='b')\n",
        "plt.vlines([t12,T12], 0, max(v2), linestyles='--', linewidth=1, color='r')\n",
        "plt.legend()\n",
        "\n",
        "\n",
        "plt.subplot(133)\n",
        "plt.plot(T1,a1, linewidth=3, label=\"a1(t)\", color='b')\n",
        "plt.plot(T2,a2, linewidth=3, label=\"a2(t)\", color='r')\n",
        "plt.xlabel('t (s)', fontsize=18)\n",
        "plt.ylabel(r'a(t) (\\degree /s)', fontsize=18)\n",
        "plt.grid(color='black', linestyle='--', linewidth=1.0, alpha = 0.7)\n",
        "plt.grid(True)\n",
        "plt.xlim([0, time_max])\n",
        "plt.ylim([np.min([a1, a2])-1,np.max([a1, a2])+1])\n",
        "plt.vlines([t11,T11], min(a1)-1, max(a1)+1, linestyles='--', linewidth=1, color='b')\n",
        "plt.vlines([t12,T12], min(a2)-1, max(a2)+1, linestyles='--', linewidth=1, color='r')\n",
        "plt.legend()\n",
        "plt.title(\"До синхронизации\")\n",
        "plt.show()"
      ],
      "metadata": {
        "colab": {
          "base_uri": "https://localhost:8080/",
          "height": 378
        },
        "id": "KkgNHB-Gsw3i",
        "outputId": "4c27a7f1-f5bb-45cf-b285-13c0504c072e"
      },
      "execution_count": null,
      "outputs": [
        {
          "output_type": "stream",
          "name": "stdout",
          "text": [
            "Trapezoidal profile, minimum time: 11.5 seconds.\n",
            "Trapezoidal profile, minimum time: 11.5 seconds.\n"
          ]
        },
        {
          "output_type": "display_data",
          "data": {
            "text/plain": [
              "<Figure size 1500x300 with 3 Axes>"
            ],
            "image/png": "[encoded data removed]"
          },
          "metadata": {}
        }
      ]
    },
    {
      "cell_type": "markdown",
      "source": [
        "# Задание 3 (ДИНАМИКА)"
      ],
      "metadata": {
        "id": "h_lFv7hotEZa"
      }
    },
    {
      "cell_type": "code",
      "source": [
        "import sympy as sym\n",
        "import numpy as np\n",
        "def Rx_sym(q):\n",
        "    T = sym.Matrix([[1,         0,          0, 0],\n",
        "                  [0, sym.cos(q), -sym.sin(q), 0],\n",
        "                  [0, sym.sin(q),  sym.cos(q), 0],\n",
        "                  [0,         0,          0, 1]])\n",
        "    return T\n",
        "\n",
        "def Ry_sym(q):\n",
        "    T = sym.Matrix([[ sym.cos(q), 0, sym.sin(q), 0],\n",
        "                  [         0, 1,         0, 0],\n",
        "                  [-sym.sin(q), 0, sym.cos(q), 0],\n",
        "                  [         0, 0,         0, 1]])\n",
        "    return T\n",
        "\n",
        "\n",
        "def Rz_sym(q):\n",
        "    T = sym.Matrix([[sym.cos(q), -sym.sin(q), 0, 0],\n",
        "                  [sym.sin(q),  sym.cos(q), 0, 0],\n",
        "                  [        0,          0, 1, 0],\n",
        "                  [        0,          0, 0, 1]])\n",
        "    return T\n",
        "\n",
        "\n",
        "def Tx_sym(x):\n",
        "    T = sym.Matrix([[1, 0, 0, x],\n",
        "                  [0, 1, 0, 0],\n",
        "                  [0, 0, 1, 0],\n",
        "                  [0, 0, 0, 1]])\n",
        "    return T\n",
        "\n",
        "\n",
        "def Ty_sym(y):\n",
        "    T = sym.Matrix([[1, 0, 0, 0],\n",
        "                  [0, 1, 0, y],\n",
        "                  [0, 0, 1, 0],\n",
        "                  [0, 0, 0, 1]])\n",
        "    return T\n",
        "\n",
        "\n",
        "def Tz_sym(z):\n",
        "    T = sym.Matrix([[1, 0, 0, 0],\n",
        "                  [0, 1, 0, 0],\n",
        "                  [0, 0, 1, z],\n",
        "                  [0, 0, 0, 1]])\n",
        "    return T\n",
        "\n",
        "\n",
        "def dRz(q):\n",
        "    T = np.array([[-np.sin(q), -np.cos(q), 0, 0],\n",
        "                  [np.cos(q),  -np.sin(q), 0, 0],\n",
        "                  [        0,          0, 0, 0],\n",
        "                  [        0,          0, 0, 0]], dtype=float)\n",
        "    return T\n",
        "\n",
        "def dRx(q):\n",
        "    T = np.array([[0,         0,          0, 0],\n",
        "                  [0, -np.sin(q), -np.cos(q), 0],\n",
        "                  [0, np.cos(q),  -np.sin(q), 0],\n",
        "                  [0,         0,          0, 0]], dtype=float)\n",
        "    return T\n",
        "\n",
        "def dRy(q):\n",
        "    T = np.array([[ -np.sin(q), 0, np.cos(q), 0],\n",
        "                  [         0, 0,         0, 0],\n",
        "                  [-np.cos(q), 0, -np.sin(q), 0],\n",
        "                  [         0, 0,         0, 0]], dtype=float)\n",
        "    return T"
      ],
      "metadata": {
        "id": "Bl2s-5FzuzKi"
      },
      "execution_count": null,
      "outputs": []
    },
    {
      "cell_type": "code",
      "source": [
        "def DH(d, theta, a, alpha):\n",
        "    A = Rz_sym(theta) @ Tz_sym(d) @ Tx_sym(a) @ Rx_sym(alpha)\n",
        "    return A"
      ],
      "metadata": {
        "id": "SOa5nmCvu1dh"
      },
      "execution_count": null,
      "outputs": []
    },
    {
      "cell_type": "code",
      "source": [
        "import matplotlib.pyplot as plt\n",
        "np.set_printoptions(precision=10, suppress=True)\n",
        "# robot parameters\n",
        "l1_sym, l2_sym, lc1_sym, lc2_sym = sym.symbols('l_1, l_2, l_{c1}, l_{c2}')\n",
        "# I1_sym, I2_sym = sym.symbols('I_1, I_2')\n",
        "\n",
        "I_xx1, I_yy1, I_zz1 = sym.symbols('I_{xx1}, I_{yy1}, I_{zz1}')\n",
        "I_xx2, I_yy2, I_zz2 = sym.symbols('I_{xx2}, I_{yy2}, I_{zz2}')\n",
        "I1_sym = sym.Matrix([[I_xx1, 0, 0],\n",
        "                     [0, I_yy1, 0],\n",
        "                     [0,0, I_zz1]])\n",
        "\n",
        "I2_sym = sym.Matrix([[I_xx2, 0, 0],\n",
        "                     [0, I_yy2, 0],\n",
        "                     [0,0, I_zz2]])\n",
        "\n",
        "m1_sym, m2_sym = sym.symbols('m_1, m_2')\n",
        "t = sym.symbols('t')\n",
        "q1 = sym.Function('q1')(t)\n",
        "q2 = sym.Function('q2')(t)\n",
        "dq1 = sym.diff(q1, t)\n",
        "dq2 = sym.diff(q2, t)\n",
        "dq_start = sym.Matrix([dq1, dq2])\n",
        "funny_pi = sym.symbols(r'\\frac{pi}{2}')\n",
        "g = sym.Symbol('g')\n",
        "\n",
        "params = {'l1': l1_sym,\n",
        "          'l2': l2_sym,\n",
        "          'd1': lc1_sym}\n",
        "gen_coords = {'q1': np.pi/8,\n",
        "              'q2': 0.3}\n",
        "\n",
        "q_0 = sym.Matrix([gen_coords['q1'],gen_coords['q2']])"
      ],
      "metadata": {
        "id": "Y2TIJIXltjYZ"
      },
      "execution_count": null,
      "outputs": []
    },
    {
      "cell_type": "code",
      "source": [
        "d_p= np.array([params['l1'], 0])\n",
        "th_p = np.array([np.pi/2, 0])\n",
        "a_p = np.array([0, params['l2']])\n",
        "al_p = np.array([np.pi/2, 0])\n",
        "q_type = np.array([\"R\", \"R\"])"
      ],
      "metadata": {
        "id": "ZYNHECxKt5pY"
      },
      "execution_count": null,
      "outputs": []
    },
    {
      "cell_type": "code",
      "source": [
        "def FK(q_cor, q_type):\n",
        "    Matrix = sym.eye(4)\n",
        "\n",
        "    for i, (q, j_t) in enumerate(zip(q_cor, q_type)):\n",
        "      Matrix = Matrix @ DH(d_p[i], th_p[i]+q, a_p[i], al_p[i])\n",
        "\n",
        "    return Matrix"
      ],
      "metadata": {
        "id": "LyN6V6zKuNvH"
      },
      "execution_count": null,
      "outputs": []
    },
    {
      "cell_type": "code",
      "source": [
        "from IPython.display import display\n",
        "q_start = sym.Matrix([q1, q2])\n",
        "num_coors = 2\n",
        "FK0 = FK(q_start[:num_coors ], q_type[:num_coors ])\n",
        "FK0.simplify()\n",
        "FK0 = sym.nsimplify(FK0, tolerance=1e-10, rational=True)\n",
        "display(FK0)"
      ],
      "metadata": {
        "colab": {
          "base_uri": "https://localhost:8080/",
          "height": 99
        },
        "id": "rkYxSIpNuryN",
        "outputId": "a5d168f9-2bfc-4533-a5c8-b8c3db89af0f"
      },
      "execution_count": null,
      "outputs": [
        {
          "output_type": "display_data",
          "data": {
            "text/plain": [
              "Matrix([\n",
              "[cos(q1(t) + 9978066541/6352234450)*cos(q2(t)), -sin(q2(t))*cos(q1(t) + 9978066541/6352234450),  sin(q1(t) + 9978066541/6352234450), l_2*cos(q1(t) + 9978066541/6352234450)*cos(q2(t))],\n",
              "[sin(q1(t) + 9978066541/6352234450)*cos(q2(t)), -sin(q1(t) + 9978066541/6352234450)*sin(q2(t)), -cos(q1(t) + 9978066541/6352234450), l_2*sin(q1(t) + 9978066541/6352234450)*cos(q2(t))],\n",
              "[                                   sin(q2(t)),                                     cos(q2(t)),                                   0,                              l_1 + l_2*sin(q2(t))],\n",
              "[                                            0,                                              0,                                   0,                                                 1]])"
            ],
            "text/latex": "$\\displaystyle \\left[\\begin{matrix}\\cos{\\left(q_{1}{\\left(t \\right)} + \\frac{9978066541}{6352234450} \\right)} \\cos{\\left(q_{2}{\\left(t \\right)} \\right)} & - \\sin{\\left(q_{2}{\\left(t \\right)} \\right)} \\cos{\\left(q_{1}{\\left(t \\right)} + \\frac{9978066541}{6352234450} \\right)} & \\sin{\\left(q_{1}{\\left(t \\right)} + \\frac{9978066541}{6352234450} \\right)} & l_{2} \\cos{\\left(q_{1}{\\left(t \\right)} + \\frac{9978066541}{6352234450} \\right)} \\cos{\\left(q_{2}{\\left(t \\right)} \\right)}\\\\\\sin{\\left(q_{1}{\\left(t \\right)} + \\frac{9978066541}{6352234450} \\right)} \\cos{\\left(q_{2}{\\left(t \\right)} \\right)} & - \\sin{\\left(q_{1}{\\left(t \\right)} + \\frac{9978066541}{6352234450} \\right)} \\sin{\\left(q_{2}{\\left(t \\right)} \\right)} & - \\cos{\\left(q_{1}{\\left(t \\right)} + \\frac{9978066541}{6352234450} \\right)} & l_{2} \\sin{\\left(q_{1}{\\left(t \\right)} + \\frac{9978066541}{6352234450} \\right)} \\cos{\\left(q_{2}{\\left(t \\right)} \\right)}\\\\\\sin{\\left(q_{2}{\\left(t \\right)} \\right)} & \\cos{\\left(q_{2}{\\left(t \\right)} \\right)} & 0 & l_{1} + l_{2} \\sin{\\left(q_{2}{\\left(t \\right)} \\right)}\\\\0 & 0 & 0 & 1\\end{matrix}\\right]$"
          },
          "metadata": {}
        }
      ]
    },
    {
      "cell_type": "code",
      "source": [
        "def FK_com(q_cor, q_type):\n",
        "    Matrix = sym.eye(4)\n",
        "    Matrix = FK(q_cor[:-1], q_type[:-1])\n",
        "    joint_num = len(q_cor)-1\n",
        "\n",
        "    if joint_num <0:\n",
        "      return Matrix\n",
        "    elif joint_num == 0:\n",
        "        Matrix = Matrix @ DH(lc1_sym, 0, 0, 0) # the rotation after does not matter\n",
        "    elif joint_num == 1:\n",
        "        Matrix = Matrix @ DH(d_p[joint_num], th_p[joint_num]+q_cor[-1], lc2_sym, 0) # the rotation after does not matter\n",
        "\n",
        "\n",
        "    return Matrix"
      ],
      "metadata": {
        "id": "rnE83JvpvK6S"
      },
      "execution_count": null,
      "outputs": []
    },
    {
      "cell_type": "code",
      "source": [
        "num_coors = 2\n",
        "FK0 = FK_com(q_start[:num_coors ], q_type[:num_coors ])\n",
        "FK0.simplify()\n",
        "FK0 = sym.nsimplify(FK0, tolerance=1e-10, rational=True)\n",
        "display(FK0)"
      ],
      "metadata": {
        "colab": {
          "base_uri": "https://localhost:8080/",
          "height": 99
        },
        "id": "KBGuwn7-vOV9",
        "outputId": "e779171d-97c4-4acb-e5e3-ac29643be3e5"
      },
      "execution_count": null,
      "outputs": [
        {
          "output_type": "display_data",
          "data": {
            "text/plain": [
              "Matrix([\n",
              "[cos(q1(t) + 9978066541/6352234450)*cos(q2(t)), -sin(q2(t))*cos(q1(t) + 9978066541/6352234450),  sin(q1(t) + 9978066541/6352234450), l_{c2}*cos(q1(t) + 9978066541/6352234450)*cos(q2(t))],\n",
              "[sin(q1(t) + 9978066541/6352234450)*cos(q2(t)), -sin(q1(t) + 9978066541/6352234450)*sin(q2(t)), -cos(q1(t) + 9978066541/6352234450), l_{c2}*sin(q1(t) + 9978066541/6352234450)*cos(q2(t))],\n",
              "[                                   sin(q2(t)),                                     cos(q2(t)),                                   0,                              l_1 + l_{c2}*sin(q2(t))],\n",
              "[                                            0,                                              0,                                   0,                                                    1]])"
            ],
            "text/latex": "$\\displaystyle \\left[\\begin{matrix}\\cos{\\left(q_{1}{\\left(t \\right)} + \\frac{9978066541}{6352234450} \\right)} \\cos{\\left(q_{2}{\\left(t \\right)} \\right)} & - \\sin{\\left(q_{2}{\\left(t \\right)} \\right)} \\cos{\\left(q_{1}{\\left(t \\right)} + \\frac{9978066541}{6352234450} \\right)} & \\sin{\\left(q_{1}{\\left(t \\right)} + \\frac{9978066541}{6352234450} \\right)} & l_{c2} \\cos{\\left(q_{1}{\\left(t \\right)} + \\frac{9978066541}{6352234450} \\right)} \\cos{\\left(q_{2}{\\left(t \\right)} \\right)}\\\\\\sin{\\left(q_{1}{\\left(t \\right)} + \\frac{9978066541}{6352234450} \\right)} \\cos{\\left(q_{2}{\\left(t \\right)} \\right)} & - \\sin{\\left(q_{1}{\\left(t \\right)} + \\frac{9978066541}{6352234450} \\right)} \\sin{\\left(q_{2}{\\left(t \\right)} \\right)} & - \\cos{\\left(q_{1}{\\left(t \\right)} + \\frac{9978066541}{6352234450} \\right)} & l_{c2} \\sin{\\left(q_{1}{\\left(t \\right)} + \\frac{9978066541}{6352234450} \\right)} \\cos{\\left(q_{2}{\\left(t \\right)} \\right)}\\\\\\sin{\\left(q_{2}{\\left(t \\right)} \\right)} & \\cos{\\left(q_{2}{\\left(t \\right)} \\right)} & 0 & l_{1} + l_{c2} \\sin{\\left(q_{2}{\\left(t \\right)} \\right)}\\\\0 & 0 & 0 & 1\\end{matrix}\\right]$"
          },
          "metadata": {}
        }
      ]
    },
    {
      "cell_type": "markdown",
      "source": [
        "geometric jacobian for the generic mass"
      ],
      "metadata": {
        "id": "kYsyf3tOwpKL"
      }
    },
    {
      "cell_type": "code",
      "source": [
        "import numpy as np\n",
        "def j_geometric(q_coords, q_type):\n",
        "  \"\"\"\n",
        "  The function returns the Jacobian (6x2) calculated geometrically\n",
        "  \"\"\"\n",
        "  pe = FK(q_coords, q_type)[:3, 3].T # end-effector coordinates\n",
        "\n",
        "  J = sym.zeros(6, 2)\n",
        "  for i in range(len(q_coords)):\n",
        "    if q_type[i] == \"R\":\n",
        "      pi = FK(q_coords[:i], q_type)[:3, 3].T\n",
        "      z = FK(q_coords[:i], q_type)[:3, 2].T\n",
        "      Jp = z.cross(pe-pi)\n",
        "      J[0:3,i] = Jp.T\n",
        "      J[3:,i] = z.T\n",
        "    elif q_type[i] == \"P\":\n",
        "      z = FK(q_coords[:i], q_type)[:3, 2].T\n",
        "      J[0:3,i] = z.T\n",
        "\n",
        "  return J\n",
        "\n",
        "#points = get_points(np.array([0,0,0]))\n",
        "J_gm = sym.nsimplify(j_geometric(q_start, q_type), tolerance=1e-10,rational=True)\n",
        "J_gm"
      ],
      "metadata": {
        "colab": {
          "base_uri": "https://localhost:8080/",
          "height": 140
        },
        "id": "qwDBLa0xwuAE",
        "outputId": "1b1feea2-29eb-4af0-b5c2-41a8fdb3f313"
      },
      "execution_count": null,
      "outputs": [
        {
          "output_type": "execute_result",
          "data": {
            "text/plain": [
              "Matrix([\n",
              "[-l_2*sin(q1(t) + 9978066541/6352234450)*cos(q2(t)),                                                          -l_2*sin(q2(t))*cos(q1(t) + 9978066541/6352234450)],\n",
              "[ l_2*cos(q1(t) + 9978066541/6352234450)*cos(q2(t)),                                                          -l_2*sin(q1(t) + 9978066541/6352234450)*sin(q2(t))],\n",
              "[                                                 0, l_2*sin(q1(t) + 9978066541/6352234450)**2*cos(q2(t)) + l_2*cos(q1(t) + 9978066541/6352234450)**2*cos(q2(t))],\n",
              "[                                                 0,                                                                          sin(q1(t) + 9978066541/6352234450)],\n",
              "[                                                 0,                                                                         -cos(q1(t) + 9978066541/6352234450)],\n",
              "[                                                 1,                                                                                                           0]])"
            ],
            "text/latex": "$\\displaystyle \\left[\\begin{matrix}- l_{2} \\sin{\\left(q_{1}{\\left(t \\right)} + \\frac{9978066541}{6352234450} \\right)} \\cos{\\left(q_{2}{\\left(t \\right)} \\right)} & - l_{2} \\sin{\\left(q_{2}{\\left(t \\right)} \\right)} \\cos{\\left(q_{1}{\\left(t \\right)} + \\frac{9978066541}{6352234450} \\right)}\\\\l_{2} \\cos{\\left(q_{1}{\\left(t \\right)} + \\frac{9978066541}{6352234450} \\right)} \\cos{\\left(q_{2}{\\left(t \\right)} \\right)} & - l_{2} \\sin{\\left(q_{1}{\\left(t \\right)} + \\frac{9978066541}{6352234450} \\right)} \\sin{\\left(q_{2}{\\left(t \\right)} \\right)}\\\\0 & l_{2} \\sin^{2}{\\left(q_{1}{\\left(t \\right)} + \\frac{9978066541}{6352234450} \\right)} \\cos{\\left(q_{2}{\\left(t \\right)} \\right)} + l_{2} \\cos^{2}{\\left(q_{1}{\\left(t \\right)} + \\frac{9978066541}{6352234450} \\right)} \\cos{\\left(q_{2}{\\left(t \\right)} \\right)}\\\\0 & \\sin{\\left(q_{1}{\\left(t \\right)} + \\frac{9978066541}{6352234450} \\right)}\\\\0 & - \\cos{\\left(q_{1}{\\left(t \\right)} + \\frac{9978066541}{6352234450} \\right)}\\\\1 & 0\\end{matrix}\\right]$"
          },
          "metadata": {},
          "execution_count": 25
        }
      ]
    },
    {
      "cell_type": "code",
      "source": [
        "import numpy as np\n",
        "def j_geometric_com(q_coords, q_type):\n",
        "  \"\"\"\n",
        "  The function returns the Jacobian (6x2) calculated geometrically\n",
        "  \"\"\"\n",
        "  pe = FK_com(q_coords, q_type)[:3, 3].T # end-effector coordinates\n",
        "\n",
        "  J = sym.zeros(6, 2)\n",
        "  for i in range(len(q_coords)):\n",
        "    if q_type[i] == \"R\":\n",
        "      pi = FK(q_coords[:i], q_type)[:3, 3].T\n",
        "      z = FK(q_coords[:i], q_type)[:3, 2].T\n",
        "      Jp = z.cross(pe-pi)\n",
        "      J[0:3,i] = Jp.T\n",
        "      J[3:,i] = z.T\n",
        "    elif q_type[i] == \"P\":\n",
        "      z = FK_com(q_coords[:i+1], q_type)[:3, 2].T\n",
        "      display(sym.nsimplify(FK_com(q_coords[:i+1], q_type), tolerance=1e-10,rational=True))\n",
        "      J[0:3,i] = z.T\n",
        "\n",
        "  return J\n",
        "\n",
        "J1 = sym.nsimplify(j_geometric_com(q_start[:1], q_type[:1]), tolerance=1e-10,rational=True)\n",
        "J2 = sym.nsimplify(j_geometric_com(q_start, q_type), tolerance=1e-10,rational=True)\n",
        "Rcom1 =  FK_com(q_start[:1], q_type[:1])[:3, :3]\n",
        "Rcom2 =  FK_com(q_start, q_type)[:3, :3]"
      ],
      "metadata": {
        "id": "2DBPKcxhxd_M"
      },
      "execution_count": null,
      "outputs": []
    },
    {
      "cell_type": "code",
      "source": [
        "J1v, J1w = J1[:3, :], J1[3:, :]\n",
        "J2v, J2w = J2[:3, :], J2[3:, :]"
      ],
      "metadata": {
        "id": "ug_32xjwxhbN"
      },
      "execution_count": null,
      "outputs": []
    },
    {
      "cell_type": "code",
      "source": [
        "J2"
      ],
      "metadata": {
        "colab": {
          "base_uri": "https://localhost:8080/",
          "height": 140
        },
        "id": "ENc5XwAdFz1I",
        "outputId": "439918c1-708d-4c3f-db74-005cc4bb0174"
      },
      "execution_count": null,
      "outputs": [
        {
          "output_type": "execute_result",
          "data": {
            "text/plain": [
              "Matrix([\n",
              "[-l_{c2}*sin(q1(t) + 9978066541/6352234450)*cos(q2(t)),                                                             -l_{c2}*sin(q2(t))*cos(q1(t) + 9978066541/6352234450)],\n",
              "[ l_{c2}*cos(q1(t) + 9978066541/6352234450)*cos(q2(t)),                                                             -l_{c2}*sin(q1(t) + 9978066541/6352234450)*sin(q2(t))],\n",
              "[                                                    0, l_{c2}*sin(q1(t) + 9978066541/6352234450)**2*cos(q2(t)) + l_{c2}*cos(q1(t) + 9978066541/6352234450)**2*cos(q2(t))],\n",
              "[                                                    0,                                                                                sin(q1(t) + 9978066541/6352234450)],\n",
              "[                                                    0,                                                                               -cos(q1(t) + 9978066541/6352234450)],\n",
              "[                                                    1,                                                                                                                 0]])"
            ],
            "text/latex": "$\\displaystyle \\left[\\begin{matrix}- l_{c2} \\sin{\\left(q_{1}{\\left(t \\right)} + \\frac{9978066541}{6352234450} \\right)} \\cos{\\left(q_{2}{\\left(t \\right)} \\right)} & - l_{c2} \\sin{\\left(q_{2}{\\left(t \\right)} \\right)} \\cos{\\left(q_{1}{\\left(t \\right)} + \\frac{9978066541}{6352234450} \\right)}\\\\l_{c2} \\cos{\\left(q_{1}{\\left(t \\right)} + \\frac{9978066541}{6352234450} \\right)} \\cos{\\left(q_{2}{\\left(t \\right)} \\right)} & - l_{c2} \\sin{\\left(q_{1}{\\left(t \\right)} + \\frac{9978066541}{6352234450} \\right)} \\sin{\\left(q_{2}{\\left(t \\right)} \\right)}\\\\0 & l_{c2} \\sin^{2}{\\left(q_{1}{\\left(t \\right)} + \\frac{9978066541}{6352234450} \\right)} \\cos{\\left(q_{2}{\\left(t \\right)} \\right)} + l_{c2} \\cos^{2}{\\left(q_{1}{\\left(t \\right)} + \\frac{9978066541}{6352234450} \\right)} \\cos{\\left(q_{2}{\\left(t \\right)} \\right)}\\\\0 & \\sin{\\left(q_{1}{\\left(t \\right)} + \\frac{9978066541}{6352234450} \\right)}\\\\0 & - \\cos{\\left(q_{1}{\\left(t \\right)} + \\frac{9978066541}{6352234450} \\right)}\\\\1 & 0\\end{matrix}\\right]$"
          },
          "metadata": {},
          "execution_count": 28
        }
      ]
    },
    {
      "cell_type": "code",
      "source": [
        "Mcom1 = m1_sym * J1v.T @ J1v + J1w.T @ Rcom1 @ I1_sym @ Rcom1.T @ J1w\n",
        "Mcom1 = sym.nsimplify(Mcom1, tolerance=1e-10,rational=True)\n",
        "Mcom1 = Mcom1.simplify()\n",
        "Mcom1"
      ],
      "metadata": {
        "colab": {
          "base_uri": "https://localhost:8080/",
          "height": 58
        },
        "id": "OFyAOvJpxt1z",
        "outputId": "a8d7a289-77f9-4636-bfec-1673f18d0e34"
      },
      "execution_count": null,
      "outputs": [
        {
          "output_type": "execute_result",
          "data": {
            "text/plain": [
              "Matrix([\n",
              "[I_{zz1}, 0],\n",
              "[      0, 0]])"
            ],
            "text/latex": "$\\displaystyle \\left[\\begin{matrix}I_{zz1} & 0\\\\0 & 0\\end{matrix}\\right]$"
          },
          "metadata": {},
          "execution_count": 29
        }
      ]
    },
    {
      "cell_type": "code",
      "source": [
        "Mcom2 = m2_sym * J2v.T @ J2v + J2w.T @ Rcom2 @ I2_sym @ Rcom2.T @ J2w\n",
        "Mcom2 = sym.nsimplify(Mcom2, tolerance=1e-10,rational=True)\n",
        "Mcom2 = Mcom2.simplify()\n",
        "Mcom2"
      ],
      "metadata": {
        "colab": {
          "base_uri": "https://localhost:8080/",
          "height": 58
        },
        "id": "aS-Tp3PUxvw0",
        "outputId": "8c4053b5-155f-44bc-eda9-16635f57510e"
      },
      "execution_count": null,
      "outputs": [
        {
          "output_type": "execute_result",
          "data": {
            "text/plain": [
              "Matrix([\n",
              "[-I_{xx2}*cos(q2(t))**2 + I_{xx2} + I_{yy2}*cos(q2(t))**2 + l_{c2}**2*m_2*cos(q2(t))**2,                       0],\n",
              "[                                                                                     0, I_{zz2} + l_{c2}**2*m_2]])"
            ],
            "text/latex": "$\\displaystyle \\left[\\begin{matrix}- I_{xx2} \\cos^{2}{\\left(q_{2}{\\left(t \\right)} \\right)} + I_{xx2} + I_{yy2} \\cos^{2}{\\left(q_{2}{\\left(t \\right)} \\right)} + l_{c2}^{2} m_{2} \\cos^{2}{\\left(q_{2}{\\left(t \\right)} \\right)} & 0\\\\0 & I_{zz2} + l_{c2}^{2} m_{2}\\end{matrix}\\right]$"
          },
          "metadata": {},
          "execution_count": 30
        }
      ]
    },
    {
      "cell_type": "code",
      "source": [
        "M = Mcom1 + Mcom2\n",
        "M = sym.nsimplify(M, tolerance=1e-10,rational=True)\n",
        "M = M.simplify()\n",
        "M"
      ],
      "metadata": {
        "colab": {
          "base_uri": "https://localhost:8080/",
          "height": 58
        },
        "id": "fhG_ng-lxy39",
        "outputId": "77c6fdde-a348-4ba5-858d-e03c99d4c549"
      },
      "execution_count": null,
      "outputs": [
        {
          "output_type": "execute_result",
          "data": {
            "text/plain": [
              "Matrix([\n",
              "[-I_{xx2}*cos(q2(t))**2 + I_{xx2} + I_{yy2}*cos(q2(t))**2 + I_{zz1} + l_{c2}**2*m_2*cos(q2(t))**2,                       0],\n",
              "[                                                                                               0, I_{zz2} + l_{c2}**2*m_2]])"
            ],
            "text/latex": "$\\displaystyle \\left[\\begin{matrix}- I_{xx2} \\cos^{2}{\\left(q_{2}{\\left(t \\right)} \\right)} + I_{xx2} + I_{yy2} \\cos^{2}{\\left(q_{2}{\\left(t \\right)} \\right)} + I_{zz1} + l_{c2}^{2} m_{2} \\cos^{2}{\\left(q_{2}{\\left(t \\right)} \\right)} & 0\\\\0 & I_{zz2} + l_{c2}^{2} m_{2}\\end{matrix}\\right]$"
          },
          "metadata": {},
          "execution_count": 31
        }
      ]
    },
    {
      "cell_type": "code",
      "source": [
        "M"
      ],
      "metadata": {
        "colab": {
          "base_uri": "https://localhost:8080/",
          "height": 58
        },
        "id": "fKklThGhHRlY",
        "outputId": "5a84e28c-376f-4308-998d-d1ac9aee1414"
      },
      "execution_count": null,
      "outputs": [
        {
          "output_type": "execute_result",
          "data": {
            "text/plain": [
              "Matrix([\n",
              "[-I_{xx2}*cos(q2(t))**2 + I_{xx2} + I_{yy2}*cos(q2(t))**2 + I_{zz1} + l_{c2}**2*m_2*cos(q2(t))**2,                       0],\n",
              "[                                                                                               0, I_{zz2} + l_{c2}**2*m_2]])"
            ],
            "text/latex": "$\\displaystyle \\left[\\begin{matrix}- I_{xx2} \\cos^{2}{\\left(q_{2}{\\left(t \\right)} \\right)} + I_{xx2} + I_{yy2} \\cos^{2}{\\left(q_{2}{\\left(t \\right)} \\right)} + I_{zz1} + l_{c2}^{2} m_{2} \\cos^{2}{\\left(q_{2}{\\left(t \\right)} \\right)} & 0\\\\0 & I_{zz2} + l_{c2}^{2} m_{2}\\end{matrix}\\right]$"
          },
          "metadata": {},
          "execution_count": 32
        }
      ]
    },
    {
      "cell_type": "code",
      "source": [
        "M_lam = sym.lambdify([q2, I_xx2, I_yy2, I_zz1, I_zz2,  lc2_sym, m2_sym], M)\n",
        "M_lam(0, 1e-3, 6 * 1e-3, 6 * 1e-3, 6 * 1e-3, 0.25, 0.2)"
      ],
      "metadata": {
        "colab": {
          "base_uri": "https://localhost:8080/"
        },
        "id": "KopXtVX44nyu",
        "outputId": "e0d19e00-f2dc-4384-89d3-182a5773664b"
      },
      "execution_count": null,
      "outputs": [
        {
          "output_type": "execute_result",
          "data": {
            "text/plain": [
              "array([[0.0245, 0.    ],\n",
              "       [0.    , 0.0185]])"
            ]
          },
          "metadata": {},
          "execution_count": 33
        }
      ]
    },
    {
      "cell_type": "code",
      "source": [
        "dim = len(q_start)\n",
        "\n",
        "coriolis = sym.zeros(dim, dim)\n",
        "for i in range(dim):\n",
        "  for j in range(dim):\n",
        "    for k in range(dim):\n",
        "      coriolis[i, j] += 1/2*(sym.diff(M[i, j], q_start[k])+sym.diff(M[i, k], q_start[j])-sym.diff(M[j, k], q_start[i])) * dq_start[k]\n"
      ],
      "metadata": {
        "id": "y6QLJBTZx17c"
      },
      "execution_count": null,
      "outputs": []
    },
    {
      "cell_type": "code",
      "source": [
        "coriolis = sym.nsimplify(coriolis, tolerance=1e-10,rational=True)\n",
        "coriolis = coriolis.simplify()\n",
        "coriolis"
      ],
      "metadata": {
        "colab": {
          "base_uri": "https://localhost:8080/",
          "height": 78
        },
        "id": "pq2CzeQLx3m7",
        "outputId": "da653e27-f67a-481e-b7a3-4044c8dcea63"
      },
      "execution_count": null,
      "outputs": [
        {
          "output_type": "execute_result",
          "data": {
            "text/plain": [
              "Matrix([\n",
              "[ (I_{xx2} - I_{yy2} - l_{c2}**2*m_2)*sin(2*q2(t))*Derivative(q2(t), t)/2, (I_{xx2} - I_{yy2} - l_{c2}**2*m_2)*sin(2*q2(t))*Derivative(q1(t), t)/2],\n",
              "[(-I_{xx2} + I_{yy2} + l_{c2}**2*m_2)*sin(2*q2(t))*Derivative(q1(t), t)/2,                                                                       0]])"
            ],
            "text/latex": "$\\displaystyle \\left[\\begin{matrix}\\frac{\\left(I_{xx2} - I_{yy2} - l_{c2}^{2} m_{2}\\right) \\sin{\\left(2 q_{2}{\\left(t \\right)} \\right)} \\frac{d}{d t} q_{2}{\\left(t \\right)}}{2} & \\frac{\\left(I_{xx2} - I_{yy2} - l_{c2}^{2} m_{2}\\right) \\sin{\\left(2 q_{2}{\\left(t \\right)} \\right)} \\frac{d}{d t} q_{1}{\\left(t \\right)}}{2}\\\\\\frac{\\left(- I_{xx2} + I_{yy2} + l_{c2}^{2} m_{2}\\right) \\sin{\\left(2 q_{2}{\\left(t \\right)} \\right)} \\frac{d}{d t} q_{1}{\\left(t \\right)}}{2} & 0\\end{matrix}\\right]$"
          },
          "metadata": {},
          "execution_count": 35
        }
      ]
    },
    {
      "cell_type": "code",
      "source": [
        "coriolis_lam = sym.lambdify([q2, dq1, dq2, I_xx2, I_yy2, I_zz1, I_zz2,  lc2_sym, m2_sym], coriolis)\n",
        "coriolis_lam(np.pi/2, 1, 1,  1e-3, 6 * 1e-3, 6 * 1e-3, 6 * 1e-3, 0.25, 0.2)"
      ],
      "metadata": {
        "colab": {
          "base_uri": "https://localhost:8080/"
        },
        "id": "DG9BpPvc7Z91",
        "outputId": "ef77b54a-50c6-4d13-b6d3-726aa7843fb4"
      },
      "execution_count": null,
      "outputs": [
        {
          "output_type": "execute_result",
          "data": {
            "text/plain": [
              "array([[-0., -0.],\n",
              "       [ 0.,  0.]])"
            ]
          },
          "metadata": {},
          "execution_count": 36
        }
      ]
    },
    {
      "cell_type": "code",
      "source": [
        "J2v"
      ],
      "metadata": {
        "colab": {
          "base_uri": "https://localhost:8080/",
          "height": 79
        },
        "id": "5McAptZ1Fnic",
        "outputId": "7a60f6e3-8cb8-4519-e475-3c7c31c79d7f"
      },
      "execution_count": null,
      "outputs": [
        {
          "output_type": "execute_result",
          "data": {
            "text/plain": [
              "Matrix([\n",
              "[-l_{c2}*sin(q1(t) + 9978066541/6352234450)*cos(q2(t)),                                                             -l_{c2}*sin(q2(t))*cos(q1(t) + 9978066541/6352234450)],\n",
              "[ l_{c2}*cos(q1(t) + 9978066541/6352234450)*cos(q2(t)),                                                             -l_{c2}*sin(q1(t) + 9978066541/6352234450)*sin(q2(t))],\n",
              "[                                                    0, l_{c2}*sin(q1(t) + 9978066541/6352234450)**2*cos(q2(t)) + l_{c2}*cos(q1(t) + 9978066541/6352234450)**2*cos(q2(t))]])"
            ],
            "text/latex": "$\\displaystyle \\left[\\begin{matrix}- l_{c2} \\sin{\\left(q_{1}{\\left(t \\right)} + \\frac{9978066541}{6352234450} \\right)} \\cos{\\left(q_{2}{\\left(t \\right)} \\right)} & - l_{c2} \\sin{\\left(q_{2}{\\left(t \\right)} \\right)} \\cos{\\left(q_{1}{\\left(t \\right)} + \\frac{9978066541}{6352234450} \\right)}\\\\l_{c2} \\cos{\\left(q_{1}{\\left(t \\right)} + \\frac{9978066541}{6352234450} \\right)} \\cos{\\left(q_{2}{\\left(t \\right)} \\right)} & - l_{c2} \\sin{\\left(q_{1}{\\left(t \\right)} + \\frac{9978066541}{6352234450} \\right)} \\sin{\\left(q_{2}{\\left(t \\right)} \\right)}\\\\0 & l_{c2} \\sin^{2}{\\left(q_{1}{\\left(t \\right)} + \\frac{9978066541}{6352234450} \\right)} \\cos{\\left(q_{2}{\\left(t \\right)} \\right)} + l_{c2} \\cos^{2}{\\left(q_{1}{\\left(t \\right)} + \\frac{9978066541}{6352234450} \\right)} \\cos{\\left(q_{2}{\\left(t \\right)} \\right)}\\end{matrix}\\right]$"
          },
          "metadata": {},
          "execution_count": 37
        }
      ]
    },
    {
      "cell_type": "code",
      "source": [
        "g = sym.Symbol('g')\n",
        "g0 = sym.Matrix([0, 0, g])\n",
        "gravity = -J1v.T @ g0 * m1_sym - J2v.T @ g0 * m2_sym\n",
        "gravity"
      ],
      "metadata": {
        "colab": {
          "base_uri": "https://localhost:8080/",
          "height": 58
        },
        "id": "oKQ20Wy8x6Fk",
        "outputId": "cac66c9b-eca4-4292-b604-88e528c1c591"
      },
      "execution_count": null,
      "outputs": [
        {
          "output_type": "execute_result",
          "data": {
            "text/plain": [
              "Matrix([\n",
              "[                                                                                                                         0],\n",
              "[-g*m_2*(l_{c2}*sin(q1(t) + 9978066541/6352234450)**2*cos(q2(t)) + l_{c2}*cos(q1(t) + 9978066541/6352234450)**2*cos(q2(t)))]])"
            ],
            "text/latex": "$\\displaystyle \\left[\\begin{matrix}0\\\\- g m_{2} \\left(l_{c2} \\sin^{2}{\\left(q_{1}{\\left(t \\right)} + \\frac{9978066541}{6352234450} \\right)} \\cos{\\left(q_{2}{\\left(t \\right)} \\right)} + l_{c2} \\cos^{2}{\\left(q_{1}{\\left(t \\right)} + \\frac{9978066541}{6352234450} \\right)} \\cos{\\left(q_{2}{\\left(t \\right)} \\right)}\\right)\\end{matrix}\\right]$"
          },
          "metadata": {},
          "execution_count": 38
        }
      ]
    },
    {
      "cell_type": "code",
      "source": [
        "gravity_lam = sym.lambdify([q1, q2, lc2_sym, m2_sym, g], gravity)\n",
        "gravity_lam(np.pi/2, np.pi/2,   0.25, 0.2, 9.81)"
      ],
      "metadata": {
        "colab": {
          "base_uri": "https://localhost:8080/"
        },
        "id": "k1CNavwb8IRs",
        "outputId": "01e92d57-29ed-48c7-c8b5-7631c5036c89"
      },
      "execution_count": null,
      "outputs": [
        {
          "output_type": "execute_result",
          "data": {
            "text/plain": [
              "array([[ 0.],\n",
              "       [-0.]])"
            ]
          },
          "metadata": {},
          "execution_count": 60
        }
      ]
    },
    {
      "cell_type": "code",
      "source": [
        "q_start"
      ],
      "metadata": {
        "colab": {
          "base_uri": "https://localhost:8080/",
          "height": 58
        },
        "id": "0amCBUjQHynq",
        "outputId": "afe98318-c8b8-4be0-81ac-80b9f386dcd9"
      },
      "execution_count": null,
      "outputs": [
        {
          "output_type": "execute_result",
          "data": {
            "text/plain": [
              "Matrix([\n",
              "[q1(t)],\n",
              "[q2(t)]])"
            ],
            "text/latex": "$\\displaystyle \\left[\\begin{matrix}q_{1}{\\left(t \\right)}\\\\q_{2}{\\left(t \\right)}\\end{matrix}\\right]$"
          },
          "metadata": {},
          "execution_count": 61
        }
      ]
    },
    {
      "cell_type": "code",
      "source": [
        "tau = M @ q_start + coriolis @ q_start + gravity\n",
        "tau"
      ],
      "metadata": {
        "colab": {
          "base_uri": "https://localhost:8080/",
          "height": 78
        },
        "id": "bt7Sj2p3yF9s",
        "outputId": "df693655-8d41-47a6-ad9d-c40706c64868"
      },
      "execution_count": null,
      "outputs": [
        {
          "output_type": "execute_result",
          "data": {
            "text/plain": [
              "Matrix([\n",
              "[(I_{xx2} - I_{yy2} - l_{c2}**2*m_2)*q1(t)*sin(2*q2(t))*Derivative(q2(t), t)/2 + (I_{xx2} - I_{yy2} - l_{c2}**2*m_2)*q2(t)*sin(2*q2(t))*Derivative(q1(t), t)/2 + (-I_{xx2}*cos(q2(t))**2 + I_{xx2} + I_{yy2}*cos(q2(t))**2 + I_{zz1} + l_{c2}**2*m_2*cos(q2(t))**2)*q1(t)],\n",
              "[                           -g*m_2*(l_{c2}*sin(q1(t) + 9978066541/6352234450)**2*cos(q2(t)) + l_{c2}*cos(q1(t) + 9978066541/6352234450)**2*cos(q2(t))) + (I_{zz2} + l_{c2}**2*m_2)*q2(t) + (-I_{xx2} + I_{yy2} + l_{c2}**2*m_2)*q1(t)*sin(2*q2(t))*Derivative(q1(t), t)/2]])"
            ],
            "text/latex": "$\\displaystyle \\left[\\begin{matrix}\\frac{\\left(I_{xx2} - I_{yy2} - l_{c2}^{2} m_{2}\\right) q_{1}{\\left(t \\right)} \\sin{\\left(2 q_{2}{\\left(t \\right)} \\right)} \\frac{d}{d t} q_{2}{\\left(t \\right)}}{2} + \\frac{\\left(I_{xx2} - I_{yy2} - l_{c2}^{2} m_{2}\\right) q_{2}{\\left(t \\right)} \\sin{\\left(2 q_{2}{\\left(t \\right)} \\right)} \\frac{d}{d t} q_{1}{\\left(t \\right)}}{2} + \\left(- I_{xx2} \\cos^{2}{\\left(q_{2}{\\left(t \\right)} \\right)} + I_{xx2} + I_{yy2} \\cos^{2}{\\left(q_{2}{\\left(t \\right)} \\right)} + I_{zz1} + l_{c2}^{2} m_{2} \\cos^{2}{\\left(q_{2}{\\left(t \\right)} \\right)}\\right) q_{1}{\\left(t \\right)}\\\\- g m_{2} \\left(l_{c2} \\sin^{2}{\\left(q_{1}{\\left(t \\right)} + \\frac{9978066541}{6352234450} \\right)} \\cos{\\left(q_{2}{\\left(t \\right)} \\right)} + l_{c2} \\cos^{2}{\\left(q_{1}{\\left(t \\right)} + \\frac{9978066541}{6352234450} \\right)} \\cos{\\left(q_{2}{\\left(t \\right)} \\right)}\\right) + \\left(I_{zz2} + l_{c2}^{2} m_{2}\\right) q_{2}{\\left(t \\right)} + \\frac{\\left(- I_{xx2} + I_{yy2} + l_{c2}^{2} m_{2}\\right) q_{1}{\\left(t \\right)} \\sin{\\left(2 q_{2}{\\left(t \\right)} \\right)} \\frac{d}{d t} q_{1}{\\left(t \\right)}}{2}\\end{matrix}\\right]$"
          },
          "metadata": {},
          "execution_count": 62
        }
      ]
    },
    {
      "cell_type": "code",
      "source": [
        "tau = sym.nsimplify(tau, tolerance=1e-10,rational=True)\n",
        "tau = tau.simplify()\n",
        "tau"
      ],
      "metadata": {
        "colab": {
          "base_uri": "https://localhost:8080/",
          "height": 78
        },
        "id": "HkDCFjl99mAs",
        "outputId": "3180faff-a3df-4750-b9e0-adfd40004e53"
      },
      "execution_count": null,
      "outputs": [
        {
          "output_type": "execute_result",
          "data": {
            "text/plain": [
              "Matrix([\n",
              "[-(-I_{xx2} + I_{yy2} + l_{c2}**2*m_2)*q1(t)*sin(2*q2(t))*Derivative(q2(t), t)/2 - (-I_{xx2} + I_{yy2} + l_{c2}**2*m_2)*q2(t)*sin(2*q2(t))*Derivative(q1(t), t)/2 + (-I_{xx2}*cos(q2(t))**2 + I_{xx2} + I_{yy2}*cos(q2(t))**2 + I_{zz1} + l_{c2}**2*m_2*cos(q2(t))**2)*q1(t)],\n",
              "[                                                                                                                                -g*l_{c2}*m_2*cos(q2(t)) + (I_{zz2} + l_{c2}**2*m_2)*q2(t) + (-I_{xx2} + I_{yy2} + l_{c2}**2*m_2)*q1(t)*sin(2*q2(t))*Derivative(q1(t), t)/2]])"
            ],
            "text/latex": "$\\displaystyle \\left[\\begin{matrix}- \\frac{\\left(- I_{xx2} + I_{yy2} + l_{c2}^{2} m_{2}\\right) q_{1}{\\left(t \\right)} \\sin{\\left(2 q_{2}{\\left(t \\right)} \\right)} \\frac{d}{d t} q_{2}{\\left(t \\right)}}{2} - \\frac{\\left(- I_{xx2} + I_{yy2} + l_{c2}^{2} m_{2}\\right) q_{2}{\\left(t \\right)} \\sin{\\left(2 q_{2}{\\left(t \\right)} \\right)} \\frac{d}{d t} q_{1}{\\left(t \\right)}}{2} + \\left(- I_{xx2} \\cos^{2}{\\left(q_{2}{\\left(t \\right)} \\right)} + I_{xx2} + I_{yy2} \\cos^{2}{\\left(q_{2}{\\left(t \\right)} \\right)} + I_{zz1} + l_{c2}^{2} m_{2} \\cos^{2}{\\left(q_{2}{\\left(t \\right)} \\right)}\\right) q_{1}{\\left(t \\right)}\\\\- g l_{c2} m_{2} \\cos{\\left(q_{2}{\\left(t \\right)} \\right)} + \\left(I_{zz2} + l_{c2}^{2} m_{2}\\right) q_{2}{\\left(t \\right)} + \\frac{\\left(- I_{xx2} + I_{yy2} + l_{c2}^{2} m_{2}\\right) q_{1}{\\left(t \\right)} \\sin{\\left(2 q_{2}{\\left(t \\right)} \\right)} \\frac{d}{d t} q_{1}{\\left(t \\right)}}{2}\\end{matrix}\\right]$"
          },
          "metadata": {},
          "execution_count": 63
        }
      ]
    },
    {
      "cell_type": "code",
      "source": [
        "tau_lam = sym.lambdify([q1, q2, dq1, dq2, I_xx2, I_yy2, I_zz1, I_zz2,  lc2_sym, m2_sym, g], tau)\n",
        "tau_lam(np.pi/2, np.pi/2, 1, 1,  1e-3, 6 * 1e-3, 6 * 1e-3, 6 * 1e-3, 0.25, 0.2, 9.81)"
      ],
      "metadata": {
        "colab": {
          "base_uri": "https://localhost:8080/"
        },
        "id": "SZueUvy69r4l",
        "outputId": "79ae3e9e-bad7-4a89-f3da-8c6793b4eb97"
      },
      "execution_count": null,
      "outputs": [
        {
          "output_type": "execute_result",
          "data": {
            "text/plain": [
              "array([[0.0109955743],\n",
              "       [0.029059732 ]])"
            ]
          },
          "metadata": {},
          "execution_count": 65
        }
      ]
    },
    {
      "cell_type": "markdown",
      "source": [
        "Проверка"
      ],
      "metadata": {
        "id": "xmCASs35yInl"
      }
    },
    {
      "cell_type": "code",
      "source": [
        "sym.diff(M, t)"
      ],
      "metadata": {
        "colab": {
          "base_uri": "https://localhost:8080/",
          "height": 58
        },
        "id": "vvqPcFmJyJ0j",
        "outputId": "a6a3cd40-b351-4c95-b588-222ef479bbb1"
      },
      "execution_count": null,
      "outputs": [
        {
          "output_type": "execute_result",
          "data": {
            "text/plain": [
              "Matrix([\n",
              "[2*I_{xx2}*sin(q2(t))*cos(q2(t))*Derivative(q2(t), t) - 2*I_{yy2}*sin(q2(t))*cos(q2(t))*Derivative(q2(t), t) - 2*l_{c2}**2*m_2*sin(q2(t))*cos(q2(t))*Derivative(q2(t), t), 0],\n",
              "[                                                                                                                                                                       0, 0]])"
            ],
            "text/latex": "$\\displaystyle \\left[\\begin{matrix}2 I_{xx2} \\sin{\\left(q_{2}{\\left(t \\right)} \\right)} \\cos{\\left(q_{2}{\\left(t \\right)} \\right)} \\frac{d}{d t} q_{2}{\\left(t \\right)} - 2 I_{yy2} \\sin{\\left(q_{2}{\\left(t \\right)} \\right)} \\cos{\\left(q_{2}{\\left(t \\right)} \\right)} \\frac{d}{d t} q_{2}{\\left(t \\right)} - 2 l_{c2}^{2} m_{2} \\sin{\\left(q_{2}{\\left(t \\right)} \\right)} \\cos{\\left(q_{2}{\\left(t \\right)} \\right)} \\frac{d}{d t} q_{2}{\\left(t \\right)} & 0\\\\0 & 0\\end{matrix}\\right]$"
          },
          "metadata": {},
          "execution_count": 66
        }
      ]
    },
    {
      "cell_type": "code",
      "source": [
        "2*coriolis"
      ],
      "metadata": {
        "colab": {
          "base_uri": "https://localhost:8080/",
          "height": 59
        },
        "id": "3mZLYHghyLeE",
        "outputId": "45e6d0fe-acac-4775-b2eb-7dc9bd2fd8cd"
      },
      "execution_count": null,
      "outputs": [
        {
          "output_type": "execute_result",
          "data": {
            "text/plain": [
              "Matrix([\n",
              "[ (I_{xx2} - I_{yy2} - l_{c2}**2*m_2)*sin(2*q2(t))*Derivative(q2(t), t), (I_{xx2} - I_{yy2} - l_{c2}**2*m_2)*sin(2*q2(t))*Derivative(q1(t), t)],\n",
              "[(-I_{xx2} + I_{yy2} + l_{c2}**2*m_2)*sin(2*q2(t))*Derivative(q1(t), t),                                                                     0]])"
            ],
            "text/latex": "$\\displaystyle \\left[\\begin{matrix}\\left(I_{xx2} - I_{yy2} - l_{c2}^{2} m_{2}\\right) \\sin{\\left(2 q_{2}{\\left(t \\right)} \\right)} \\frac{d}{d t} q_{2}{\\left(t \\right)} & \\left(I_{xx2} - I_{yy2} - l_{c2}^{2} m_{2}\\right) \\sin{\\left(2 q_{2}{\\left(t \\right)} \\right)} \\frac{d}{d t} q_{1}{\\left(t \\right)}\\\\\\left(- I_{xx2} + I_{yy2} + l_{c2}^{2} m_{2}\\right) \\sin{\\left(2 q_{2}{\\left(t \\right)} \\right)} \\frac{d}{d t} q_{1}{\\left(t \\right)} & 0\\end{matrix}\\right]$"
          },
          "metadata": {},
          "execution_count": 68
        }
      ]
    },
    {
      "cell_type": "code",
      "source": [
        "A = sym.diff(M, t) - 2*coriolis\n",
        "A = sym.simplify(A)\n",
        "A"
      ],
      "metadata": {
        "colab": {
          "base_uri": "https://localhost:8080/",
          "height": 59
        },
        "id": "76x_dBbuyNC9",
        "outputId": "6a2ce74e-a12c-4b6b-a129-1341fb126a9f"
      },
      "execution_count": null,
      "outputs": [
        {
          "output_type": "execute_result",
          "data": {
            "text/plain": [
              "Matrix([\n",
              "[                                                                    0, (-I_{xx2} + I_{yy2} + l_{c2}**2*m_2)*sin(2*q2(t))*Derivative(q1(t), t)],\n",
              "[(I_{xx2} - I_{yy2} - l_{c2}**2*m_2)*sin(2*q2(t))*Derivative(q1(t), t),                                                                      0]])"
            ],
            "text/latex": "$\\displaystyle \\left[\\begin{matrix}0 & \\left(- I_{xx2} + I_{yy2} + l_{c2}^{2} m_{2}\\right) \\sin{\\left(2 q_{2}{\\left(t \\right)} \\right)} \\frac{d}{d t} q_{1}{\\left(t \\right)}\\\\\\left(I_{xx2} - I_{yy2} - l_{c2}^{2} m_{2}\\right) \\sin{\\left(2 q_{2}{\\left(t \\right)} \\right)} \\frac{d}{d t} q_{1}{\\left(t \\right)} & 0\\end{matrix}\\right]$"
          },
          "metadata": {},
          "execution_count": 69
        }
      ]
    },
    {
      "cell_type": "code",
      "source": [
        "sym.simplify(A.T + A)"
      ],
      "metadata": {
        "colab": {
          "base_uri": "https://localhost:8080/",
          "height": 58
        },
        "id": "cqAgElQXyOwV",
        "outputId": "519bfde3-b52a-495c-8bd0-cf0cbe10ba93"
      },
      "execution_count": null,
      "outputs": [
        {
          "output_type": "execute_result",
          "data": {
            "text/plain": [
              "Matrix([\n",
              "[0, 0],\n",
              "[0, 0]])"
            ],
            "text/latex": "$\\displaystyle \\left[\\begin{matrix}0 & 0\\\\0 & 0\\end{matrix}\\right]$"
          },
          "metadata": {},
          "execution_count": 46
        }
      ]
    },
    {
      "cell_type": "markdown",
      "source": [
        "# Задание 4"
      ],
      "metadata": {
        "id": "iQvEsdz_yiRk"
      }
    },
    {
      "cell_type": "markdown",
      "source": [
        "Kinetic energy"
      ],
      "metadata": {
        "id": "MO9HfYMIy8V4"
      }
    },
    {
      "cell_type": "code",
      "source": [
        "dq_start.T @ M  @ dq_start * (1/2)"
      ],
      "metadata": {
        "colab": {
          "base_uri": "https://localhost:8080/",
          "height": 47
        },
        "id": "zl3aSc2Yylv_",
        "outputId": "f1b49ded-a5d9-42d2-b469-5938439fbcf7"
      },
      "execution_count": null,
      "outputs": [
        {
          "output_type": "execute_result",
          "data": {
            "text/plain": [
              "Matrix([[0.5*(I_{zz2} + l_{c2}**2*m_2)*Derivative(q2(t), t)**2 + 0.5*(-I_{xx2}*cos(q2(t))**2 + I_{xx2} + I_{yy2}*cos(q2(t))**2 + I_{zz1} + l_{c2}**2*m_2*cos(q2(t))**2)*Derivative(q1(t), t)**2]])"
            ],
            "text/latex": "$\\displaystyle \\left[\\begin{matrix}0.5 \\left(I_{zz2} + l_{c2}^{2} m_{2}\\right) \\left(\\frac{d}{d t} q_{2}{\\left(t \\right)}\\right)^{2} + 0.5 \\left(- I_{xx2} \\cos^{2}{\\left(q_{2}{\\left(t \\right)} \\right)} + I_{xx2} + I_{yy2} \\cos^{2}{\\left(q_{2}{\\left(t \\right)} \\right)} + I_{zz1} + l_{c2}^{2} m_{2} \\cos^{2}{\\left(q_{2}{\\left(t \\right)} \\right)}\\right) \\left(\\frac{d}{d t} q_{1}{\\left(t \\right)}\\right)^{2}\\end{matrix}\\right]$"
          },
          "metadata": {},
          "execution_count": 70
        }
      ]
    },
    {
      "cell_type": "markdown",
      "source": [
        "Potential energy"
      ],
      "metadata": {
        "id": "Yk7rh8Vnzbdp"
      }
    },
    {
      "cell_type": "code",
      "source": [
        "Pcom1 =  FK_com(q_start[:1], q_type[:1])[:3, 3]\n",
        "Pcom2 =  sym.simplify(FK_com(q_start, q_type))[:3, 3]\n",
        "Pcom2 = sym.nsimplify(Pcom2, tolerance=1e-10,rational=True)"
      ],
      "metadata": {
        "id": "Y1VVvchv0hjH"
      },
      "execution_count": null,
      "outputs": []
    },
    {
      "cell_type": "code",
      "source": [
        "Pcom1"
      ],
      "metadata": {
        "colab": {
          "base_uri": "https://localhost:8080/",
          "height": 78
        },
        "id": "_hKe79Rt0mLY",
        "outputId": "980e7f25-141f-454a-f76b-d40706e7a485"
      },
      "execution_count": null,
      "outputs": [
        {
          "output_type": "execute_result",
          "data": {
            "text/plain": [
              "Matrix([\n",
              "[     0],\n",
              "[     0],\n",
              "[l_{c1}]])"
            ],
            "text/latex": "$\\displaystyle \\left[\\begin{matrix}0\\\\0\\\\l_{c1}\\end{matrix}\\right]$"
          },
          "metadata": {},
          "execution_count": 72
        }
      ]
    },
    {
      "cell_type": "code",
      "source": [
        "Pcom2"
      ],
      "metadata": {
        "colab": {
          "base_uri": "https://localhost:8080/",
          "height": 78
        },
        "id": "pQ5I1_Xb0oWd",
        "outputId": "c7d28bf5-ab7f-4b0e-c8cf-e742f4caa8c5"
      },
      "execution_count": null,
      "outputs": [
        {
          "output_type": "execute_result",
          "data": {
            "text/plain": [
              "Matrix([\n",
              "[l_{c2}*cos(q1(t) + 9978066541/6352234450)*cos(q2(t))],\n",
              "[l_{c2}*sin(q1(t) + 9978066541/6352234450)*cos(q2(t))],\n",
              "[                             l_1 + l_{c2}*sin(q2(t))]])"
            ],
            "text/latex": "$\\displaystyle \\left[\\begin{matrix}l_{c2} \\cos{\\left(q_{1}{\\left(t \\right)} + \\frac{9978066541}{6352234450} \\right)} \\cos{\\left(q_{2}{\\left(t \\right)} \\right)}\\\\l_{c2} \\sin{\\left(q_{1}{\\left(t \\right)} + \\frac{9978066541}{6352234450} \\right)} \\cos{\\left(q_{2}{\\left(t \\right)} \\right)}\\\\l_{1} + l_{c2} \\sin{\\left(q_{2}{\\left(t \\right)} \\right)}\\end{matrix}\\right]$"
          },
          "metadata": {},
          "execution_count": 50
        }
      ]
    },
    {
      "cell_type": "code",
      "source": [
        "g0"
      ],
      "metadata": {
        "colab": {
          "base_uri": "https://localhost:8080/",
          "height": 78
        },
        "id": "F-kg-GL41EQm",
        "outputId": "a7c6a3dd-b3e6-4a64-c47a-c2d08fb468bc"
      },
      "execution_count": null,
      "outputs": [
        {
          "output_type": "execute_result",
          "data": {
            "text/plain": [
              "Matrix([\n",
              "[0],\n",
              "[0],\n",
              "[g]])"
            ],
            "text/latex": "$\\displaystyle \\left[\\begin{matrix}0\\\\0\\\\g\\end{matrix}\\right]$"
          },
          "metadata": {},
          "execution_count": 51
        }
      ]
    },
    {
      "cell_type": "code",
      "source": [
        "potential = -(m1_sym * g0.T @ Pcom1 + m2_sym * g0.T @ Pcom2)\n",
        "potential"
      ],
      "metadata": {
        "colab": {
          "base_uri": "https://localhost:8080/",
          "height": 39
        },
        "id": "cb5yswrZzjS4",
        "outputId": "114c63bf-852b-4678-ae7e-4579aeb43b74"
      },
      "execution_count": null,
      "outputs": [
        {
          "output_type": "execute_result",
          "data": {
            "text/plain": [
              "Matrix([[-g*l_{c1}*m_1 - g*m_2*(l_1 + l_{c2}*sin(q2(t)))]])"
            ],
            "text/latex": "$\\displaystyle \\left[\\begin{matrix}- g l_{c1} m_{1} - g m_{2} \\left(l_{1} + l_{c2} \\sin{\\left(q_{2}{\\left(t \\right)} \\right)}\\right)\\end{matrix}\\right]$"
          },
          "metadata": {},
          "execution_count": 73
        }
      ]
    },
    {
      "cell_type": "markdown",
      "source": [
        "# Задание 5"
      ],
      "metadata": {
        "id": "Mt1EXc1N1TtW"
      }
    },
    {
      "cell_type": "markdown",
      "source": [
        "Надо добавить в гравитационный вектор воздействие на энд эффектор"
      ],
      "metadata": {
        "id": "l2Gtd0AE2YTx"
      }
    },
    {
      "cell_type": "code",
      "source": [
        "Fx, Fy, Fz = sym.symbols('F_x, F_y, F_z')\n",
        "Force_end_eff = sym.Matrix([Fx, Fy, Fz])"
      ],
      "metadata": {
        "id": "ictelujT1Vyl"
      },
      "execution_count": null,
      "outputs": []
    },
    {
      "cell_type": "code",
      "source": [
        "Jee = sym.nsimplify(j_geometric(q_start[:], q_type[:]), tolerance=1e-10,rational=True)\n",
        "Jeev, Jeew = Jee[:3, :], Jee[3:, :]"
      ],
      "metadata": {
        "id": "06sq3XCx8YIw"
      },
      "execution_count": null,
      "outputs": []
    },
    {
      "cell_type": "code",
      "source": [
        "Jeev"
      ],
      "metadata": {
        "colab": {
          "base_uri": "https://localhost:8080/",
          "height": 79
        },
        "id": "P4TjHVhD8l-H",
        "outputId": "2940318d-6a24-49d5-f08e-b6c509bd8206"
      },
      "execution_count": null,
      "outputs": [
        {
          "output_type": "execute_result",
          "data": {
            "text/plain": [
              "Matrix([\n",
              "[-l_2*sin(q1(t) + 9978066541/6352234450)*cos(q2(t)),                                                          -l_2*sin(q2(t))*cos(q1(t) + 9978066541/6352234450)],\n",
              "[ l_2*cos(q1(t) + 9978066541/6352234450)*cos(q2(t)),                                                          -l_2*sin(q1(t) + 9978066541/6352234450)*sin(q2(t))],\n",
              "[                                                 0, l_2*sin(q1(t) + 9978066541/6352234450)**2*cos(q2(t)) + l_2*cos(q1(t) + 9978066541/6352234450)**2*cos(q2(t))]])"
            ],
            "text/latex": "$\\displaystyle \\left[\\begin{matrix}- l_{2} \\sin{\\left(q_{1}{\\left(t \\right)} + \\frac{9978066541}{6352234450} \\right)} \\cos{\\left(q_{2}{\\left(t \\right)} \\right)} & - l_{2} \\sin{\\left(q_{2}{\\left(t \\right)} \\right)} \\cos{\\left(q_{1}{\\left(t \\right)} + \\frac{9978066541}{6352234450} \\right)}\\\\l_{2} \\cos{\\left(q_{1}{\\left(t \\right)} + \\frac{9978066541}{6352234450} \\right)} \\cos{\\left(q_{2}{\\left(t \\right)} \\right)} & - l_{2} \\sin{\\left(q_{1}{\\left(t \\right)} + \\frac{9978066541}{6352234450} \\right)} \\sin{\\left(q_{2}{\\left(t \\right)} \\right)}\\\\0 & l_{2} \\sin^{2}{\\left(q_{1}{\\left(t \\right)} + \\frac{9978066541}{6352234450} \\right)} \\cos{\\left(q_{2}{\\left(t \\right)} \\right)} + l_{2} \\cos^{2}{\\left(q_{1}{\\left(t \\right)} + \\frac{9978066541}{6352234450} \\right)} \\cos{\\left(q_{2}{\\left(t \\right)} \\right)}\\end{matrix}\\right]$"
          },
          "metadata": {},
          "execution_count": 55
        }
      ]
    },
    {
      "cell_type": "code",
      "source": [
        "external_forces = -Jeev.T @ Force_end_eff\n",
        "external_forces"
      ],
      "metadata": {
        "colab": {
          "base_uri": "https://localhost:8080/",
          "height": 58
        },
        "id": "ytuZrikJ8mjH",
        "outputId": "7fc489a4-7c38-4af5-cbe4-4a1935ae2fef"
      },
      "execution_count": null,
      "outputs": [
        {
          "output_type": "execute_result",
          "data": {
            "text/plain": [
              "Matrix([\n",
              "[                                                                                                                     F_x*l_2*sin(q1(t) + 9978066541/6352234450)*cos(q2(t)) - F_y*l_2*cos(q1(t) + 9978066541/6352234450)*cos(q2(t))],\n",
              "[F_x*l_2*sin(q2(t))*cos(q1(t) + 9978066541/6352234450) + F_y*l_2*sin(q1(t) + 9978066541/6352234450)*sin(q2(t)) + F_z*(-l_2*sin(q1(t) + 9978066541/6352234450)**2*cos(q2(t)) - l_2*cos(q1(t) + 9978066541/6352234450)**2*cos(q2(t)))]])"
            ],
            "text/latex": "$\\displaystyle \\left[\\begin{matrix}F_{x} l_{2} \\sin{\\left(q_{1}{\\left(t \\right)} + \\frac{9978066541}{6352234450} \\right)} \\cos{\\left(q_{2}{\\left(t \\right)} \\right)} - F_{y} l_{2} \\cos{\\left(q_{1}{\\left(t \\right)} + \\frac{9978066541}{6352234450} \\right)} \\cos{\\left(q_{2}{\\left(t \\right)} \\right)}\\\\F_{x} l_{2} \\sin{\\left(q_{2}{\\left(t \\right)} \\right)} \\cos{\\left(q_{1}{\\left(t \\right)} + \\frac{9978066541}{6352234450} \\right)} + F_{y} l_{2} \\sin{\\left(q_{1}{\\left(t \\right)} + \\frac{9978066541}{6352234450} \\right)} \\sin{\\left(q_{2}{\\left(t \\right)} \\right)} + F_{z} \\left(- l_{2} \\sin^{2}{\\left(q_{1}{\\left(t \\right)} + \\frac{9978066541}{6352234450} \\right)} \\cos{\\left(q_{2}{\\left(t \\right)} \\right)} - l_{2} \\cos^{2}{\\left(q_{1}{\\left(t \\right)} + \\frac{9978066541}{6352234450} \\right)} \\cos{\\left(q_{2}{\\left(t \\right)} \\right)}\\right)\\end{matrix}\\right]$"
          },
          "metadata": {},
          "execution_count": 56
        }
      ]
    },
    {
      "cell_type": "code",
      "source": [
        "tau = M @ q_start + coriolis @ q_start + gravity + external_forces\n",
        "tau = sym.nsimplify(tau, tolerance=1e-10,rational=True)\n",
        "tau = tau.simplify()\n",
        "tau"
      ],
      "metadata": {
        "colab": {
          "base_uri": "https://localhost:8080/",
          "height": 98
        },
        "id": "bAruFTx0-7k4",
        "outputId": "86fcef98-d762-4adf-a78f-26b542e19838"
      },
      "execution_count": null,
      "outputs": [
        {
          "output_type": "execute_result",
          "data": {
            "text/plain": [
              "Matrix([\n",
              "[F_x*l_2*sin(q1(t) + 9978066541/6352234450)*cos(q2(t)) - F_y*l_2*cos(q1(t) + 9978066541/6352234450)*cos(q2(t)) - (-I_{xx2} + I_{yy2} + l_{c2}**2*m_2)*q1(t)*sin(2*q2(t))*Derivative(q2(t), t)/2 - (-I_{xx2} + I_{yy2} + l_{c2}**2*m_2)*q2(t)*sin(2*q2(t))*Derivative(q1(t), t)/2 + (-I_{xx2}*cos(q2(t))**2 + I_{xx2} + I_{yy2}*cos(q2(t))**2 + I_{zz1} + l_{c2}**2*m_2*cos(q2(t))**2)*q1(t)],\n",
              "[                                                                                                           F_x*l_2*sin(q2(t))*cos(q1(t) + 9978066541/6352234450) + F_y*l_2*sin(q1(t) + 9978066541/6352234450)*sin(q2(t)) - F_z*l_2*cos(q2(t)) - g*l_{c2}*m_2*cos(q2(t)) + (I_{zz2} + l_{c2}**2*m_2)*q2(t) + (-I_{xx2} + I_{yy2} + l_{c2}**2*m_2)*q1(t)*sin(2*q2(t))*Derivative(q1(t), t)/2]])"
            ],
            "text/latex": "$\\displaystyle \\left[\\begin{matrix}F_{x} l_{2} \\sin{\\left(q_{1}{\\left(t \\right)} + \\frac{9978066541}{6352234450} \\right)} \\cos{\\left(q_{2}{\\left(t \\right)} \\right)} - F_{y} l_{2} \\cos{\\left(q_{1}{\\left(t \\right)} + \\frac{9978066541}{6352234450} \\right)} \\cos{\\left(q_{2}{\\left(t \\right)} \\right)} - \\frac{\\left(- I_{xx2} + I_{yy2} + l_{c2}^{2} m_{2}\\right) q_{1}{\\left(t \\right)} \\sin{\\left(2 q_{2}{\\left(t \\right)} \\right)} \\frac{d}{d t} q_{2}{\\left(t \\right)}}{2} - \\frac{\\left(- I_{xx2} + I_{yy2} + l_{c2}^{2} m_{2}\\right) q_{2}{\\left(t \\right)} \\sin{\\left(2 q_{2}{\\left(t \\right)} \\right)} \\frac{d}{d t} q_{1}{\\left(t \\right)}}{2} + \\left(- I_{xx2} \\cos^{2}{\\left(q_{2}{\\left(t \\right)} \\right)} + I_{xx2} + I_{yy2} \\cos^{2}{\\left(q_{2}{\\left(t \\right)} \\right)} + I_{zz1} + l_{c2}^{2} m_{2} \\cos^{2}{\\left(q_{2}{\\left(t \\right)} \\right)}\\right) q_{1}{\\left(t \\right)}\\\\F_{x} l_{2} \\sin{\\left(q_{2}{\\left(t \\right)} \\right)} \\cos{\\left(q_{1}{\\left(t \\right)} + \\frac{9978066541}{6352234450} \\right)} + F_{y} l_{2} \\sin{\\left(q_{1}{\\left(t \\right)} + \\frac{9978066541}{6352234450} \\right)} \\sin{\\left(q_{2}{\\left(t \\right)} \\right)} - F_{z} l_{2} \\cos{\\left(q_{2}{\\left(t \\right)} \\right)} - g l_{c2} m_{2} \\cos{\\left(q_{2}{\\left(t \\right)} \\right)} + \\left(I_{zz2} + l_{c2}^{2} m_{2}\\right) q_{2}{\\left(t \\right)} + \\frac{\\left(- I_{xx2} + I_{yy2} + l_{c2}^{2} m_{2}\\right) q_{1}{\\left(t \\right)} \\sin{\\left(2 q_{2}{\\left(t \\right)} \\right)} \\frac{d}{d t} q_{1}{\\left(t \\right)}}{2}\\end{matrix}\\right]$"
          },
          "metadata": {},
          "execution_count": 57
        }
      ]
    }
  ]
}